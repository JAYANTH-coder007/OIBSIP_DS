{
  "cells": [
    {
      "cell_type": "code",
      "execution_count": null,
      "id": "0f29a1e7",
      "metadata": {
        "id": "0f29a1e7"
      },
      "outputs": [],
      "source": [
        "import pandas as pd\n",
        "import numpy as np\n",
        "import matplotlib.pyplot as plt\n",
        "import seaborn as sns\n",
        "from sklearn.model_selection import train_test_split\n",
        "from sklearn.metrics import mean_squared_error,mean_absolute_error,r2_score\n",
        "from sklearn.linear_model import LinearRegression,Ridge,Lasso\n",
        "from sklearn.model_selection import GridSearchCV,cross_val_score,KFold"
      ]
    },
    {
      "cell_type": "code",
      "execution_count": null,
      "id": "ef7f9dfa",
      "metadata": {
        "id": "ef7f9dfa",
        "outputId": "75282551-ccc8-447f-d7b1-94398a7eade3"
      },
      "outputs": [
        {
          "data": {
            "text/html": [
              "<div>\n",
              "<style scoped>\n",
              "    .dataframe tbody tr th:only-of-type {\n",
              "        vertical-align: middle;\n",
              "    }\n",
              "\n",
              "    .dataframe tbody tr th {\n",
              "        vertical-align: top;\n",
              "    }\n",
              "\n",
              "    .dataframe thead th {\n",
              "        text-align: right;\n",
              "    }\n",
              "</style>\n",
              "<table border=\"1\" class=\"dataframe\">\n",
              "  <thead>\n",
              "    <tr style=\"text-align: right;\">\n",
              "      <th></th>\n",
              "      <th>Unnamed: 0</th>\n",
              "      <th>TV</th>\n",
              "      <th>Radio</th>\n",
              "      <th>Newspaper</th>\n",
              "      <th>Sales</th>\n",
              "    </tr>\n",
              "  </thead>\n",
              "  <tbody>\n",
              "    <tr>\n",
              "      <th>0</th>\n",
              "      <td>1</td>\n",
              "      <td>230.1</td>\n",
              "      <td>37.8</td>\n",
              "      <td>69.2</td>\n",
              "      <td>22.1</td>\n",
              "    </tr>\n",
              "    <tr>\n",
              "      <th>1</th>\n",
              "      <td>2</td>\n",
              "      <td>44.5</td>\n",
              "      <td>39.3</td>\n",
              "      <td>45.1</td>\n",
              "      <td>10.4</td>\n",
              "    </tr>\n",
              "    <tr>\n",
              "      <th>2</th>\n",
              "      <td>3</td>\n",
              "      <td>17.2</td>\n",
              "      <td>45.9</td>\n",
              "      <td>69.3</td>\n",
              "      <td>9.3</td>\n",
              "    </tr>\n",
              "    <tr>\n",
              "      <th>3</th>\n",
              "      <td>4</td>\n",
              "      <td>151.5</td>\n",
              "      <td>41.3</td>\n",
              "      <td>58.5</td>\n",
              "      <td>18.5</td>\n",
              "    </tr>\n",
              "    <tr>\n",
              "      <th>4</th>\n",
              "      <td>5</td>\n",
              "      <td>180.8</td>\n",
              "      <td>10.8</td>\n",
              "      <td>58.4</td>\n",
              "      <td>12.9</td>\n",
              "    </tr>\n",
              "  </tbody>\n",
              "</table>\n",
              "</div>"
            ],
            "text/plain": [
              "   Unnamed: 0     TV  Radio  Newspaper  Sales\n",
              "0           1  230.1   37.8       69.2   22.1\n",
              "1           2   44.5   39.3       45.1   10.4\n",
              "2           3   17.2   45.9       69.3    9.3\n",
              "3           4  151.5   41.3       58.5   18.5\n",
              "4           5  180.8   10.8       58.4   12.9"
            ]
          },
          "execution_count": 2,
          "metadata": {},
          "output_type": "execute_result"
        }
      ],
      "source": [
        "df = pd.read_csv('Advertising.csv')\n",
        "df.head()"
      ]
    },
    {
      "cell_type": "code",
      "execution_count": null,
      "id": "fc154297",
      "metadata": {
        "id": "fc154297",
        "outputId": "3a4d9640-963a-420d-9c22-de255f7eb1a5"
      },
      "outputs": [
        {
          "name": "stdout",
          "output_type": "stream",
          "text": [
            "Rows ----> 200\n",
            "column ---> 5\n"
          ]
        }
      ],
      "source": [
        "print('Rows ---->',df.shape[0])\n",
        "print('column --->',df.shape[1])"
      ]
    },
    {
      "cell_type": "code",
      "execution_count": null,
      "id": "68d73999",
      "metadata": {
        "id": "68d73999",
        "outputId": "816d3cff-a876-422a-84f5-5726ac9e71bf"
      },
      "outputs": [
        {
          "name": "stdout",
          "output_type": "stream",
          "text": [
            "<class 'pandas.core.frame.DataFrame'>\n",
            "RangeIndex: 200 entries, 0 to 199\n",
            "Data columns (total 5 columns):\n",
            " #   Column      Non-Null Count  Dtype  \n",
            "---  ------      --------------  -----  \n",
            " 0   Unnamed: 0  200 non-null    int64  \n",
            " 1   TV          200 non-null    float64\n",
            " 2   Radio       200 non-null    float64\n",
            " 3   Newspaper   200 non-null    float64\n",
            " 4   Sales       200 non-null    float64\n",
            "dtypes: float64(4), int64(1)\n",
            "memory usage: 7.9 KB\n"
          ]
        }
      ],
      "source": [
        "df.info()"
      ]
    },
    {
      "cell_type": "code",
      "execution_count": null,
      "id": "3b4aaef8",
      "metadata": {
        "id": "3b4aaef8",
        "outputId": "0339f011-a8ff-4c48-a8f4-f2f4e0166c50"
      },
      "outputs": [
        {
          "data": {
            "text/plain": [
              "Unnamed: 0      int64\n",
              "TV            float64\n",
              "Radio         float64\n",
              "Newspaper     float64\n",
              "Sales         float64\n",
              "dtype: object"
            ]
          },
          "execution_count": 5,
          "metadata": {},
          "output_type": "execute_result"
        }
      ],
      "source": [
        "df.dtypes"
      ]
    },
    {
      "cell_type": "code",
      "execution_count": null,
      "id": "20576a9b",
      "metadata": {
        "id": "20576a9b",
        "outputId": "46b533bc-aed4-4c3b-804d-64b9d0b7ccb4"
      },
      "outputs": [
        {
          "data": {
            "text/plain": [
              "1000"
            ]
          },
          "execution_count": 6,
          "metadata": {},
          "output_type": "execute_result"
        }
      ],
      "source": [
        "df.size"
      ]
    },
    {
      "cell_type": "code",
      "execution_count": null,
      "id": "0c7ef8ba",
      "metadata": {
        "id": "0c7ef8ba",
        "outputId": "a5a51bb6-6928-47fa-aeb6-2f7acc269007"
      },
      "outputs": [
        {
          "data": {
            "text/html": [
              "<div>\n",
              "<style scoped>\n",
              "    .dataframe tbody tr th:only-of-type {\n",
              "        vertical-align: middle;\n",
              "    }\n",
              "\n",
              "    .dataframe tbody tr th {\n",
              "        vertical-align: top;\n",
              "    }\n",
              "\n",
              "    .dataframe thead th {\n",
              "        text-align: right;\n",
              "    }\n",
              "</style>\n",
              "<table border=\"1\" class=\"dataframe\">\n",
              "  <thead>\n",
              "    <tr style=\"text-align: right;\">\n",
              "      <th></th>\n",
              "      <th>Unnamed: 0</th>\n",
              "      <th>TV</th>\n",
              "      <th>Radio</th>\n",
              "      <th>Newspaper</th>\n",
              "      <th>Sales</th>\n",
              "    </tr>\n",
              "  </thead>\n",
              "  <tbody>\n",
              "    <tr>\n",
              "      <th>count</th>\n",
              "      <td>200.000000</td>\n",
              "      <td>200.000000</td>\n",
              "      <td>200.000000</td>\n",
              "      <td>200.000000</td>\n",
              "      <td>200.000000</td>\n",
              "    </tr>\n",
              "    <tr>\n",
              "      <th>mean</th>\n",
              "      <td>100.500000</td>\n",
              "      <td>147.042500</td>\n",
              "      <td>23.264000</td>\n",
              "      <td>30.554000</td>\n",
              "      <td>14.022500</td>\n",
              "    </tr>\n",
              "    <tr>\n",
              "      <th>std</th>\n",
              "      <td>57.879185</td>\n",
              "      <td>85.854236</td>\n",
              "      <td>14.846809</td>\n",
              "      <td>21.778621</td>\n",
              "      <td>5.217457</td>\n",
              "    </tr>\n",
              "    <tr>\n",
              "      <th>min</th>\n",
              "      <td>1.000000</td>\n",
              "      <td>0.700000</td>\n",
              "      <td>0.000000</td>\n",
              "      <td>0.300000</td>\n",
              "      <td>1.600000</td>\n",
              "    </tr>\n",
              "    <tr>\n",
              "      <th>25%</th>\n",
              "      <td>50.750000</td>\n",
              "      <td>74.375000</td>\n",
              "      <td>9.975000</td>\n",
              "      <td>12.750000</td>\n",
              "      <td>10.375000</td>\n",
              "    </tr>\n",
              "    <tr>\n",
              "      <th>50%</th>\n",
              "      <td>100.500000</td>\n",
              "      <td>149.750000</td>\n",
              "      <td>22.900000</td>\n",
              "      <td>25.750000</td>\n",
              "      <td>12.900000</td>\n",
              "    </tr>\n",
              "    <tr>\n",
              "      <th>75%</th>\n",
              "      <td>150.250000</td>\n",
              "      <td>218.825000</td>\n",
              "      <td>36.525000</td>\n",
              "      <td>45.100000</td>\n",
              "      <td>17.400000</td>\n",
              "    </tr>\n",
              "    <tr>\n",
              "      <th>max</th>\n",
              "      <td>200.000000</td>\n",
              "      <td>296.400000</td>\n",
              "      <td>49.600000</td>\n",
              "      <td>114.000000</td>\n",
              "      <td>27.000000</td>\n",
              "    </tr>\n",
              "  </tbody>\n",
              "</table>\n",
              "</div>"
            ],
            "text/plain": [
              "       Unnamed: 0          TV       Radio   Newspaper       Sales\n",
              "count  200.000000  200.000000  200.000000  200.000000  200.000000\n",
              "mean   100.500000  147.042500   23.264000   30.554000   14.022500\n",
              "std     57.879185   85.854236   14.846809   21.778621    5.217457\n",
              "min      1.000000    0.700000    0.000000    0.300000    1.600000\n",
              "25%     50.750000   74.375000    9.975000   12.750000   10.375000\n",
              "50%    100.500000  149.750000   22.900000   25.750000   12.900000\n",
              "75%    150.250000  218.825000   36.525000   45.100000   17.400000\n",
              "max    200.000000  296.400000   49.600000  114.000000   27.000000"
            ]
          },
          "execution_count": 7,
          "metadata": {},
          "output_type": "execute_result"
        }
      ],
      "source": [
        "df.describe()"
      ]
    },
    {
      "cell_type": "code",
      "execution_count": null,
      "id": "bfc23e09",
      "metadata": {
        "id": "bfc23e09",
        "outputId": "03a3630c-2114-4765-b2e2-60ec0d2334ca"
      },
      "outputs": [
        {
          "data": {
            "text/plain": [
              "Unnamed: 0    0\n",
              "TV            0\n",
              "Radio         0\n",
              "Newspaper     0\n",
              "Sales         0\n",
              "dtype: int64"
            ]
          },
          "execution_count": 8,
          "metadata": {},
          "output_type": "execute_result"
        }
      ],
      "source": [
        "df.isna().sum()"
      ]
    },
    {
      "cell_type": "code",
      "execution_count": null,
      "id": "d47ffa11",
      "metadata": {
        "id": "d47ffa11",
        "outputId": "1e811a82-2919-40e6-94a2-a8b6fd9ce20b"
      },
      "outputs": [
        {
          "data": {
            "text/plain": [
              "0"
            ]
          },
          "execution_count": 9,
          "metadata": {},
          "output_type": "execute_result"
        }
      ],
      "source": [
        "df.duplicated().sum()"
      ]
    },
    {
      "cell_type": "code",
      "execution_count": null,
      "id": "d6def204",
      "metadata": {
        "id": "d6def204",
        "outputId": "96c3ec94-f224-44b9-902f-0f0079810923"
      },
      "outputs": [
        {
          "data": {
            "text/html": [
              "<div>\n",
              "<style scoped>\n",
              "    .dataframe tbody tr th:only-of-type {\n",
              "        vertical-align: middle;\n",
              "    }\n",
              "\n",
              "    .dataframe tbody tr th {\n",
              "        vertical-align: top;\n",
              "    }\n",
              "\n",
              "    .dataframe thead th {\n",
              "        text-align: right;\n",
              "    }\n",
              "</style>\n",
              "<table border=\"1\" class=\"dataframe\">\n",
              "  <thead>\n",
              "    <tr style=\"text-align: right;\">\n",
              "      <th></th>\n",
              "      <th>Unnamed: 0</th>\n",
              "      <th>TV</th>\n",
              "      <th>Radio</th>\n",
              "      <th>Newspaper</th>\n",
              "      <th>Sales</th>\n",
              "    </tr>\n",
              "  </thead>\n",
              "  <tbody>\n",
              "    <tr>\n",
              "      <th>0</th>\n",
              "      <td>1</td>\n",
              "      <td>230.1</td>\n",
              "      <td>37.8</td>\n",
              "      <td>69.2</td>\n",
              "      <td>22.1</td>\n",
              "    </tr>\n",
              "    <tr>\n",
              "      <th>1</th>\n",
              "      <td>2</td>\n",
              "      <td>44.5</td>\n",
              "      <td>39.3</td>\n",
              "      <td>45.1</td>\n",
              "      <td>10.4</td>\n",
              "    </tr>\n",
              "  </tbody>\n",
              "</table>\n",
              "</div>"
            ],
            "text/plain": [
              "   Unnamed: 0     TV  Radio  Newspaper  Sales\n",
              "0           1  230.1   37.8       69.2   22.1\n",
              "1           2   44.5   39.3       45.1   10.4"
            ]
          },
          "execution_count": 10,
          "metadata": {},
          "output_type": "execute_result"
        }
      ],
      "source": [
        "df[:2]"
      ]
    },
    {
      "cell_type": "code",
      "execution_count": null,
      "id": "cc38774c",
      "metadata": {
        "id": "cc38774c",
        "outputId": "8cfbdc6c-f452-4c36-f946-d17320e4f6dd"
      },
      "outputs": [
        {
          "data": {
            "text/html": [
              "<div>\n",
              "<style scoped>\n",
              "    .dataframe tbody tr th:only-of-type {\n",
              "        vertical-align: middle;\n",
              "    }\n",
              "\n",
              "    .dataframe tbody tr th {\n",
              "        vertical-align: top;\n",
              "    }\n",
              "\n",
              "    .dataframe thead th {\n",
              "        text-align: right;\n",
              "    }\n",
              "</style>\n",
              "<table border=\"1\" class=\"dataframe\">\n",
              "  <thead>\n",
              "    <tr style=\"text-align: right;\">\n",
              "      <th></th>\n",
              "      <th>Unnamed: 0</th>\n",
              "      <th>TV</th>\n",
              "      <th>Radio</th>\n",
              "      <th>Newspaper</th>\n",
              "      <th>Sales</th>\n",
              "    </tr>\n",
              "  </thead>\n",
              "  <tbody>\n",
              "    <tr>\n",
              "      <th>0</th>\n",
              "      <td>1</td>\n",
              "      <td>230.1</td>\n",
              "      <td>37.8</td>\n",
              "      <td>69.2</td>\n",
              "      <td>22.1</td>\n",
              "    </tr>\n",
              "    <tr>\n",
              "      <th>1</th>\n",
              "      <td>2</td>\n",
              "      <td>44.5</td>\n",
              "      <td>39.3</td>\n",
              "      <td>45.1</td>\n",
              "      <td>10.4</td>\n",
              "    </tr>\n",
              "    <tr>\n",
              "      <th>2</th>\n",
              "      <td>3</td>\n",
              "      <td>17.2</td>\n",
              "      <td>45.9</td>\n",
              "      <td>69.3</td>\n",
              "      <td>9.3</td>\n",
              "    </tr>\n",
              "    <tr>\n",
              "      <th>3</th>\n",
              "      <td>4</td>\n",
              "      <td>151.5</td>\n",
              "      <td>41.3</td>\n",
              "      <td>58.5</td>\n",
              "      <td>18.5</td>\n",
              "    </tr>\n",
              "    <tr>\n",
              "      <th>4</th>\n",
              "      <td>5</td>\n",
              "      <td>180.8</td>\n",
              "      <td>10.8</td>\n",
              "      <td>58.4</td>\n",
              "      <td>12.9</td>\n",
              "    </tr>\n",
              "  </tbody>\n",
              "</table>\n",
              "</div>"
            ],
            "text/plain": [
              "   Unnamed: 0     TV  Radio  Newspaper  Sales\n",
              "0           1  230.1   37.8       69.2   22.1\n",
              "1           2   44.5   39.3       45.1   10.4\n",
              "2           3   17.2   45.9       69.3    9.3\n",
              "3           4  151.5   41.3       58.5   18.5\n",
              "4           5  180.8   10.8       58.4   12.9"
            ]
          },
          "execution_count": 11,
          "metadata": {},
          "output_type": "execute_result"
        }
      ],
      "source": [
        "df.head()"
      ]
    },
    {
      "cell_type": "code",
      "execution_count": null,
      "id": "480bbfc2",
      "metadata": {
        "id": "480bbfc2",
        "outputId": "6e63f676-d057-46c2-9a0e-b0e772c6ea18"
      },
      "outputs": [
        {
          "data": {
            "image/png": "[encoded data removed]",
            "text/plain": [
              "<Figure size 432x288 with 1 Axes>"
            ]
          },
          "metadata": {
            "needs_background": "light"
          },
          "output_type": "display_data"
        }
      ],
      "source": [
        "plt.boxplot(df,vert=False,data = df,labels=df.columns)\n",
        "plt.show()"
      ]
    },
    {
      "cell_type": "markdown",
      "id": "1481fe3e",
      "metadata": {
        "id": "1481fe3e"
      },
      "source": [
        "from the above boxplot it is clear that Newspaper column has the outliers but as per problem statement these outliers may play very important role for the prediction of future sales so i decide not to remove it."
      ]
    },
    {
      "cell_type": "code",
      "execution_count": null,
      "id": "a73acbcc",
      "metadata": {
        "id": "a73acbcc",
        "outputId": "5fb7441a-da98-43f8-df25-edadcca133ef"
      },
      "outputs": [
        {
          "name": "stderr",
          "output_type": "stream",
          "text": [
            "C:\\ProgramData\\Anaconda3\\lib\\site-packages\\seaborn\\distributions.py:2619: FutureWarning: `distplot` is a deprecated function and will be removed in a future version. Please adapt your code to use either `displot` (a figure-level function with similar flexibility) or `histplot` (an axes-level function for histograms).\n",
            "  warnings.warn(msg, FutureWarning)\n"
          ]
        },
        {
          "data": {
            "text/plain": [
              "<AxesSubplot:xlabel='Radio', ylabel='Density'>"
            ]
          },
          "execution_count": 16,
          "metadata": {},
          "output_type": "execute_result"
        },
        {
          "data": {
            "image/png": "[encoded data removed]",
            "text/plain": [
              "<Figure size 432x288 with 1 Axes>"
            ]
          },
          "metadata": {
            "needs_background": "light"
          },
          "output_type": "display_data"
        }
      ],
      "source": [
        "sns.distplot(df['Radio'])"
      ]
    },
    {
      "cell_type": "code",
      "execution_count": null,
      "id": "ef2c64b5",
      "metadata": {
        "id": "ef2c64b5"
      },
      "outputs": [],
      "source": [
        "df.drop(columns='Unnamed: 0',axis=1,inplace=True)"
      ]
    },
    {
      "cell_type": "code",
      "execution_count": null,
      "id": "e92ec48f",
      "metadata": {
        "id": "e92ec48f",
        "outputId": "dbef261e-a660-47ac-d34d-7744ec9b0693"
      },
      "outputs": [
        {
          "data": {
            "text/html": [
              "<div>\n",
              "<style scoped>\n",
              "    .dataframe tbody tr th:only-of-type {\n",
              "        vertical-align: middle;\n",
              "    }\n",
              "\n",
              "    .dataframe tbody tr th {\n",
              "        vertical-align: top;\n",
              "    }\n",
              "\n",
              "    .dataframe thead th {\n",
              "        text-align: right;\n",
              "    }\n",
              "</style>\n",
              "<table border=\"1\" class=\"dataframe\">\n",
              "  <thead>\n",
              "    <tr style=\"text-align: right;\">\n",
              "      <th></th>\n",
              "      <th>TV</th>\n",
              "      <th>Radio</th>\n",
              "      <th>Newspaper</th>\n",
              "    </tr>\n",
              "  </thead>\n",
              "  <tbody>\n",
              "    <tr>\n",
              "      <th>0</th>\n",
              "      <td>230.1</td>\n",
              "      <td>37.8</td>\n",
              "      <td>69.2</td>\n",
              "    </tr>\n",
              "    <tr>\n",
              "      <th>1</th>\n",
              "      <td>44.5</td>\n",
              "      <td>39.3</td>\n",
              "      <td>45.1</td>\n",
              "    </tr>\n",
              "    <tr>\n",
              "      <th>2</th>\n",
              "      <td>17.2</td>\n",
              "      <td>45.9</td>\n",
              "      <td>69.3</td>\n",
              "    </tr>\n",
              "    <tr>\n",
              "      <th>3</th>\n",
              "      <td>151.5</td>\n",
              "      <td>41.3</td>\n",
              "      <td>58.5</td>\n",
              "    </tr>\n",
              "    <tr>\n",
              "      <th>4</th>\n",
              "      <td>180.8</td>\n",
              "      <td>10.8</td>\n",
              "      <td>58.4</td>\n",
              "    </tr>\n",
              "    <tr>\n",
              "      <th>...</th>\n",
              "      <td>...</td>\n",
              "      <td>...</td>\n",
              "      <td>...</td>\n",
              "    </tr>\n",
              "    <tr>\n",
              "      <th>195</th>\n",
              "      <td>38.2</td>\n",
              "      <td>3.7</td>\n",
              "      <td>13.8</td>\n",
              "    </tr>\n",
              "    <tr>\n",
              "      <th>196</th>\n",
              "      <td>94.2</td>\n",
              "      <td>4.9</td>\n",
              "      <td>8.1</td>\n",
              "    </tr>\n",
              "    <tr>\n",
              "      <th>197</th>\n",
              "      <td>177.0</td>\n",
              "      <td>9.3</td>\n",
              "      <td>6.4</td>\n",
              "    </tr>\n",
              "    <tr>\n",
              "      <th>198</th>\n",
              "      <td>283.6</td>\n",
              "      <td>42.0</td>\n",
              "      <td>66.2</td>\n",
              "    </tr>\n",
              "    <tr>\n",
              "      <th>199</th>\n",
              "      <td>232.1</td>\n",
              "      <td>8.6</td>\n",
              "      <td>8.7</td>\n",
              "    </tr>\n",
              "  </tbody>\n",
              "</table>\n",
              "<p>200 rows × 3 columns</p>\n",
              "</div>"
            ],
            "text/plain": [
              "        TV  Radio  Newspaper\n",
              "0    230.1   37.8       69.2\n",
              "1     44.5   39.3       45.1\n",
              "2     17.2   45.9       69.3\n",
              "3    151.5   41.3       58.5\n",
              "4    180.8   10.8       58.4\n",
              "..     ...    ...        ...\n",
              "195   38.2    3.7       13.8\n",
              "196   94.2    4.9        8.1\n",
              "197  177.0    9.3        6.4\n",
              "198  283.6   42.0       66.2\n",
              "199  232.1    8.6        8.7\n",
              "\n",
              "[200 rows x 3 columns]"
            ]
          },
          "execution_count": 18,
          "metadata": {},
          "output_type": "execute_result"
        }
      ],
      "source": [
        "x=df.iloc[:,:-1]\n",
        "x"
      ]
    },
    {
      "cell_type": "code",
      "execution_count": null,
      "id": "39486426",
      "metadata": {
        "id": "39486426"
      },
      "outputs": [],
      "source": [
        "y = df.iloc[:,-1:]"
      ]
    },
    {
      "cell_type": "code",
      "execution_count": null,
      "id": "11765674",
      "metadata": {
        "id": "11765674"
      },
      "outputs": [],
      "source": [
        "from sklearn.model_selection import train_test_split\n",
        "xtrain,xtest,ytrain,ytest  = train_test_split(x,y,test_size=0.3,random_state=43)"
      ]
    },
    {
      "cell_type": "code",
      "execution_count": null,
      "id": "149f8e41",
      "metadata": {
        "id": "149f8e41",
        "outputId": "70e8a965-e883-4d32-9f16-839f21d0d01d"
      },
      "outputs": [
        {
          "data": {
            "text/plain": [
              "(        TV  Radio  Newspaper\n",
              " 71   109.8   14.3       31.7\n",
              " 90   134.3    4.9        9.3\n",
              " 100  222.4    4.3       49.8\n",
              " 44    25.1   25.7       43.3\n",
              " 94   107.4   14.0       10.9\n",
              " ..     ...    ...        ...\n",
              " 58   210.8   49.6       37.7\n",
              " 21   237.4    5.1       23.5\n",
              " 49    66.9   11.7       36.8\n",
              " 64   131.1   42.8       28.9\n",
              " 68   237.4   27.5       11.0\n",
              " \n",
              " [140 rows x 3 columns],\n",
              "      Sales\n",
              " 71    12.4\n",
              " 90    11.2\n",
              " 100   11.7\n",
              " 44     8.5\n",
              " 94    11.5\n",
              " ..     ...\n",
              " 58    23.8\n",
              " 21    12.5\n",
              " 49     9.7\n",
              " 64    18.0\n",
              " 68    18.9\n",
              " \n",
              " [140 rows x 1 columns])"
            ]
          },
          "execution_count": 21,
          "metadata": {},
          "output_type": "execute_result"
        }
      ],
      "source": [
        "xtrain,ytrain"
      ]
    },
    {
      "cell_type": "code",
      "execution_count": null,
      "id": "a368b49d",
      "metadata": {
        "id": "a368b49d"
      },
      "outputs": [],
      "source": [
        "from sklearn.linear_model import LinearRegression,Ridge,Lasso\n",
        "model = LinearRegression()"
      ]
    },
    {
      "cell_type": "code",
      "execution_count": null,
      "id": "9b139de5",
      "metadata": {
        "id": "9b139de5",
        "outputId": "7365fd0b-09de-444c-9a12-41d045c79129"
      },
      "outputs": [
        {
          "data": {
            "text/html": [
              "<style>#sk-container-id-1 {color: black;background-color: white;}#sk-container-id-1 pre{padding: 0;}#sk-container-id-1 div.sk-toggleable {background-color: white;}#sk-container-id-1 label.sk-toggleable__label {cursor: pointer;display: block;width: 100%;margin-bottom: 0;padding: 0.3em;box-sizing: border-box;text-align: center;}#sk-container-id-1 label.sk-toggleable__label-arrow:before {content: \"▸\";float: left;margin-right: 0.25em;color: #696969;}#sk-container-id-1 label.sk-toggleable__label-arrow:hover:before {color: black;}#sk-container-id-1 div.sk-estimator:hover label.sk-toggleable__label-arrow:before {color: black;}#sk-container-id-1 div.sk-toggleable__content {max-height: 0;max-width: 0;overflow: hidden;text-align: left;background-color: #f0f8ff;}#sk-container-id-1 div.sk-toggleable__content pre {margin: 0.2em;color: black;border-radius: 0.25em;background-color: #f0f8ff;}#sk-container-id-1 input.sk-toggleable__control:checked~div.sk-toggleable__content {max-height: 200px;max-width: 100%;overflow: auto;}#sk-container-id-1 input.sk-toggleable__control:checked~label.sk-toggleable__label-arrow:before {content: \"▾\";}#sk-container-id-1 div.sk-estimator input.sk-toggleable__control:checked~label.sk-toggleable__label {background-color: #d4ebff;}#sk-container-id-1 div.sk-label input.sk-toggleable__control:checked~label.sk-toggleable__label {background-color: #d4ebff;}#sk-container-id-1 input.sk-hidden--visually {border: 0;clip: rect(1px 1px 1px 1px);clip: rect(1px, 1px, 1px, 1px);height: 1px;margin: -1px;overflow: hidden;padding: 0;position: absolute;width: 1px;}#sk-container-id-1 div.sk-estimator {font-family: monospace;background-color: #f0f8ff;border: 1px dotted black;border-radius: 0.25em;box-sizing: border-box;margin-bottom: 0.5em;}#sk-container-id-1 div.sk-estimator:hover {background-color: #d4ebff;}#sk-container-id-1 div.sk-parallel-item::after {content: \"\";width: 100%;border-bottom: 1px solid gray;flex-grow: 1;}#sk-container-id-1 div.sk-label:hover label.sk-toggleable__label {background-color: #d4ebff;}#sk-container-id-1 div.sk-serial::before {content: \"\";position: absolute;border-left: 1px solid gray;box-sizing: border-box;top: 0;bottom: 0;left: 50%;z-index: 0;}#sk-container-id-1 div.sk-serial {display: flex;flex-direction: column;align-items: center;background-color: white;padding-right: 0.2em;padding-left: 0.2em;position: relative;}#sk-container-id-1 div.sk-item {position: relative;z-index: 1;}#sk-container-id-1 div.sk-parallel {display: flex;align-items: stretch;justify-content: center;background-color: white;position: relative;}#sk-container-id-1 div.sk-item::before, #sk-container-id-1 div.sk-parallel-item::before {content: \"\";position: absolute;border-left: 1px solid gray;box-sizing: border-box;top: 0;bottom: 0;left: 50%;z-index: -1;}#sk-container-id-1 div.sk-parallel-item {display: flex;flex-direction: column;z-index: 1;position: relative;background-color: white;}#sk-container-id-1 div.sk-parallel-item:first-child::after {align-self: flex-end;width: 50%;}#sk-container-id-1 div.sk-parallel-item:last-child::after {align-self: flex-start;width: 50%;}#sk-container-id-1 div.sk-parallel-item:only-child::after {width: 0;}#sk-container-id-1 div.sk-dashed-wrapped {border: 1px dashed gray;margin: 0 0.4em 0.5em 0.4em;box-sizing: border-box;padding-bottom: 0.4em;background-color: white;}#sk-container-id-1 div.sk-label label {font-family: monospace;font-weight: bold;display: inline-block;line-height: 1.2em;}#sk-container-id-1 div.sk-label-container {text-align: center;}#sk-container-id-1 div.sk-container {/* jupyter's `normalize.less` sets `[hidden] { display: none; }` but bootstrap.min.css set `[hidden] { display: none !important; }` so we also need the `!important` here to be able to override the default hidden behavior on the sphinx rendered scikit-learn.org. See: https://github.com/scikit-learn/scikit-learn/issues/21755 */display: inline-block !important;position: relative;}#sk-container-id-1 div.sk-text-repr-fallback {display: none;}</style><div id=\"sk-container-id-1\" class=\"sk-top-container\"><div class=\"sk-text-repr-fallback\"><pre>LinearRegression()</pre><b>In a Jupyter environment, please rerun this cell to show the HTML representation or trust the notebook. <br />On GitHub, the HTML representation is unable to render, please try loading this page with nbviewer.org.</b></div><div class=\"sk-container\" hidden><div class=\"sk-item\"><div class=\"sk-estimator sk-toggleable\"><input class=\"sk-toggleable__control sk-hidden--visually\" id=\"sk-estimator-id-1\" type=\"checkbox\" checked><label for=\"sk-estimator-id-1\" class=\"sk-toggleable__label sk-toggleable__label-arrow\">LinearRegression</label><div class=\"sk-toggleable__content\"><pre>LinearRegression()</pre></div></div></div></div></div>"
            ],
            "text/plain": [
              "LinearRegression()"
            ]
          },
          "execution_count": 24,
          "metadata": {},
          "output_type": "execute_result"
        }
      ],
      "source": [
        "model.fit(xtrain,ytrain)"
      ]
    },
    {
      "cell_type": "code",
      "execution_count": null,
      "id": "d15b61bf",
      "metadata": {
        "id": "d15b61bf",
        "outputId": "e364ae37-cb99-4743-a0c6-c336afce26ce"
      },
      "outputs": [
        {
          "data": {
            "text/plain": [
              "array([[ 8.41710143],\n",
              "       [15.36146115],\n",
              "       [12.08619274],\n",
              "       [ 9.75953058],\n",
              "       [11.37799221],\n",
              "       [18.73526253],\n",
              "       [23.94158412],\n",
              "       [ 7.11931733],\n",
              "       [22.06606191],\n",
              "       [16.83172907],\n",
              "       [ 7.93115903],\n",
              "       [23.07243791],\n",
              "       [19.15729792],\n",
              "       [ 5.47677475],\n",
              "       [15.42102256],\n",
              "       [ 9.82205717],\n",
              "       [12.08023645],\n",
              "       [ 9.76094922],\n",
              "       [21.07717663],\n",
              "       [ 9.13945016],\n",
              "       [20.36205828],\n",
              "       [12.03862691],\n",
              "       [13.78082146],\n",
              "       [10.73225482],\n",
              "       [16.20061541],\n",
              "       [ 7.77042699],\n",
              "       [20.6251206 ],\n",
              "       [20.31966315],\n",
              "       [ 8.97266008],\n",
              "       [14.13746173],\n",
              "       [17.28381353],\n",
              "       [15.13827164],\n",
              "       [17.18376843],\n",
              "       [19.03374633],\n",
              "       [17.13952183],\n",
              "       [12.14670527],\n",
              "       [12.7815946 ],\n",
              "       [ 6.08135492],\n",
              "       [10.06634988],\n",
              "       [13.48921606],\n",
              "       [12.01549843],\n",
              "       [ 9.70107337],\n",
              "       [ 5.35398678],\n",
              "       [10.14966171],\n",
              "       [14.224196  ],\n",
              "       [14.04780871],\n",
              "       [14.33053495],\n",
              "       [10.39465714],\n",
              "       [21.04417964],\n",
              "       [13.74703482],\n",
              "       [ 6.4651166 ],\n",
              "       [ 7.90550808],\n",
              "       [17.69866554],\n",
              "       [17.74668208],\n",
              "       [12.39498913],\n",
              "       [12.69345805],\n",
              "       [20.58946722],\n",
              "       [18.4269009 ],\n",
              "       [ 4.59145621],\n",
              "       [ 6.82129794]])"
            ]
          },
          "execution_count": 25,
          "metadata": {},
          "output_type": "execute_result"
        }
      ],
      "source": [
        "ypred=model.predict(xtest)\n",
        "ypred"
      ]
    },
    {
      "cell_type": "code",
      "execution_count": null,
      "id": "89888b33",
      "metadata": {
        "id": "89888b33",
        "outputId": "05da051e-0d6f-4da3-d369-1e331e5d73c2"
      },
      "outputs": [
        {
          "data": {
            "text/plain": [
              "88.44142326775768"
            ]
          },
          "execution_count": 26,
          "metadata": {},
          "output_type": "execute_result"
        }
      ],
      "source": [
        "model.score(xtrain,ytrain)*100"
      ]
    },
    {
      "cell_type": "code",
      "execution_count": null,
      "id": "142be795",
      "metadata": {
        "id": "142be795",
        "outputId": "e41c1234-943b-4487-e055-0d010d17a29e"
      },
      "outputs": [
        {
          "data": {
            "text/plain": [
              "92.20854203535252"
            ]
          },
          "execution_count": 27,
          "metadata": {},
          "output_type": "execute_result"
        }
      ],
      "source": [
        "model.score(xtest,ytest)*100"
      ]
    },
    {
      "cell_type": "code",
      "execution_count": null,
      "id": "a75f9e11",
      "metadata": {
        "id": "a75f9e11"
      },
      "outputs": [],
      "source": [
        "from sklearn.metrics import mean_squared_error,mean_absolute_error,r2_score"
      ]
    },
    {
      "cell_type": "code",
      "execution_count": null,
      "id": "248e0357",
      "metadata": {
        "id": "248e0357",
        "outputId": "29ef83ae-5506-4c2e-dea5-f8a363812df5"
      },
      "outputs": [
        {
          "data": {
            "text/plain": [
              "2.2412862530933477"
            ]
          },
          "execution_count": 29,
          "metadata": {},
          "output_type": "execute_result"
        }
      ],
      "source": [
        "mean_squared_error(ytest,ypred)"
      ]
    },
    {
      "cell_type": "code",
      "execution_count": null,
      "id": "b1e4d696",
      "metadata": {
        "id": "b1e4d696",
        "outputId": "31e9deb4-7e47-44d7-f4e2-f80de543a2e8"
      },
      "outputs": [
        {
          "data": {
            "text/plain": [
              "1.22122993808994"
            ]
          },
          "execution_count": 30,
          "metadata": {},
          "output_type": "execute_result"
        }
      ],
      "source": [
        "mean_absolute_error(ytest,ypred)"
      ]
    },
    {
      "cell_type": "code",
      "execution_count": null,
      "id": "eebd7f79",
      "metadata": {
        "id": "eebd7f79",
        "outputId": "f8dfa64a-6e03-4166-9cf9-e75f45aa4e5f"
      },
      "outputs": [
        {
          "data": {
            "text/plain": [
              "92.20854203535252"
            ]
          },
          "execution_count": 31,
          "metadata": {},
          "output_type": "execute_result"
        }
      ],
      "source": [
        "r2_score(ytest,ypred)*100"
      ]
    },
    {
      "cell_type": "code",
      "execution_count": null,
      "id": "225a4397",
      "metadata": {
        "id": "225a4397",
        "outputId": "67fb2601-8a45-4015-b781-465999082eef"
      },
      "outputs": [
        {
          "data": {
            "text/plain": [
              "1.497092600039606"
            ]
          },
          "execution_count": 32,
          "metadata": {},
          "output_type": "execute_result"
        }
      ],
      "source": [
        "rmse = np.sqrt(mean_squared_error(ytest,ypred))\n",
        "rmse"
      ]
    },
    {
      "cell_type": "code",
      "execution_count": null,
      "id": "19be6e52",
      "metadata": {
        "id": "19be6e52"
      },
      "outputs": [],
      "source": [
        "from sklearn.model_selection import GridSearchCV,cross_val_score,KFold"
      ]
    },
    {
      "cell_type": "code",
      "execution_count": null,
      "id": "737b5f49",
      "metadata": {
        "id": "737b5f49",
        "outputId": "171b414c-ef86-4e26-dc0e-672c0f5d467f"
      },
      "outputs": [
        {
          "data": {
            "text/plain": [
              "KFold(n_splits=5, random_state=0, shuffle=True)"
            ]
          },
          "execution_count": 34,
          "metadata": {},
          "output_type": "execute_result"
        }
      ],
      "source": [
        "cv = KFold(n_splits=5,shuffle=True, random_state=0)\n",
        "cv"
      ]
    },
    {
      "cell_type": "code",
      "execution_count": null,
      "id": "f483ad22",
      "metadata": {
        "id": "f483ad22",
        "outputId": "3300e134-ff3d-40bf-8a1a-e1ec1e90a20e"
      },
      "outputs": [
        {
          "data": {
            "text/plain": [
              "0.8910650514774895"
            ]
          },
          "execution_count": 35,
          "metadata": {},
          "output_type": "execute_result"
        }
      ],
      "source": [
        "scores=cross_val_score(model,x,y,cv=cv,n_jobs=-1)\n",
        "finalscore=np.mean(scores)\n",
        "finalscore"
      ]
    },
    {
      "cell_type": "code",
      "execution_count": null,
      "id": "699874c3",
      "metadata": {
        "id": "699874c3"
      },
      "outputs": [],
      "source": [
        "param_grid = {'normalize':['deprecated'],\n",
        "    'copy_X':[True],\n",
        "    'n_jobs':[-1,1,2,-2],\n",
        "    'positive':[False],\n",
        "    'fit_intercept':[True]\n",
        "    }"
      ]
    },
    {
      "cell_type": "code",
      "execution_count": null,
      "id": "2569ec3a",
      "metadata": {
        "id": "2569ec3a",
        "outputId": "e9abc78a-1592-4fdb-e4cb-cf0d99d5eb33"
      },
      "outputs": [
        {
          "data": {
            "text/plain": [
              "{'cv': 5,\n",
              " 'error_score': nan,\n",
              " 'estimator__copy_X': True,\n",
              " 'estimator__fit_intercept': True,\n",
              " 'estimator__n_jobs': None,\n",
              " 'estimator__normalize': 'deprecated',\n",
              " 'estimator__positive': False,\n",
              " 'estimator': LinearRegression(),\n",
              " 'n_jobs': -1,\n",
              " 'param_grid': {'normalize': ['deprecated'],\n",
              "  'copy_X': [True],\n",
              "  'n_jobs': [-1, 1, 2, -2],\n",
              "  'positive': [False],\n",
              "  'fit_intercept': [True]},\n",
              " 'pre_dispatch': '2*n_jobs',\n",
              " 'refit': True,\n",
              " 'return_train_score': False,\n",
              " 'scoring': None,\n",
              " 'verbose': 0}"
            ]
          },
          "execution_count": 40,
          "metadata": {},
          "output_type": "execute_result"
        }
      ],
      "source": [
        "grid_model.get_params()"
      ]
    },
    {
      "cell_type": "code",
      "execution_count": null,
      "id": "e0b90993",
      "metadata": {
        "id": "e0b90993",
        "outputId": "c92377fe-6bf3-41ff-eca2-b8c91d7a8241"
      },
      "outputs": [
        {
          "data": {
            "text/plain": [
              "{'copy_X': True,\n",
              " 'fit_intercept': True,\n",
              " 'n_jobs': -1,\n",
              " 'normalize': 'deprecated',\n",
              " 'positive': False}"
            ]
          },
          "execution_count": 41,
          "metadata": {},
          "output_type": "execute_result"
        }
      ],
      "source": [
        "grid_model.best_params_"
      ]
    },
    {
      "cell_type": "code",
      "execution_count": null,
      "id": "42fafaee",
      "metadata": {
        "id": "42fafaee",
        "outputId": "8757c306-aef8-4a9b-f304-ab1b2110d39b"
      },
      "outputs": [
        {
          "data": {
            "text/plain": [
              "0.8686758831118258"
            ]
          },
          "execution_count": 42,
          "metadata": {},
          "output_type": "execute_result"
        }
      ],
      "source": [
        "grid_model.best_score_"
      ]
    },
    {
      "cell_type": "markdown",
      "id": "a677af02",
      "metadata": {
        "id": "a677af02"
      },
      "source": [
        "# Ridge"
      ]
    },
    {
      "cell_type": "code",
      "execution_count": null,
      "id": "6a4a2fc4",
      "metadata": {
        "id": "6a4a2fc4"
      },
      "outputs": [],
      "source": [
        "from sklearn.linear_model import LinearRegression,Ridge,Lasso\n",
        "model = LinearRegression(fit_intercept=True,\n",
        "    normalize='deprecated',\n",
        "    copy_X=True,\n",
        "    n_jobs=-1,\n",
        "    positive=False)"
      ]
    },
    {
      "cell_type": "code",
      "execution_count": null,
      "id": "6e8ad7ea",
      "metadata": {
        "id": "6e8ad7ea",
        "outputId": "958f52ea-bc2c-4884-eee2-2f8f0cc58ccc"
      },
      "outputs": [
        {
          "data": {
            "text/plain": [
              "0.9220854203535253"
            ]
          },
          "execution_count": 44,
          "metadata": {},
          "output_type": "execute_result"
        }
      ],
      "source": [
        "model.fit(xtrain,ytrain)\n",
        "model.predict(xtest)\n",
        "model.score(xtrain,ytrain)\n",
        "model.score(xtest,ytest)"
      ]
    },
    {
      "cell_type": "code",
      "execution_count": null,
      "id": "889c25fe",
      "metadata": {
        "id": "889c25fe",
        "outputId": "cc5594e9-6065-4265-9d4e-e4640b3ef45e"
      },
      "outputs": [
        {
          "data": {
            "text/html": [
              "<style>#sk-container-id-5 {color: black;background-color: white;}#sk-container-id-5 pre{padding: 0;}#sk-container-id-5 div.sk-toggleable {background-color: white;}#sk-container-id-5 label.sk-toggleable__label {cursor: pointer;display: block;width: 100%;margin-bottom: 0;padding: 0.3em;box-sizing: border-box;text-align: center;}#sk-container-id-5 label.sk-toggleable__label-arrow:before {content: \"▸\";float: left;margin-right: 0.25em;color: #696969;}#sk-container-id-5 label.sk-toggleable__label-arrow:hover:before {color: black;}#sk-container-id-5 div.sk-estimator:hover label.sk-toggleable__label-arrow:before {color: black;}#sk-container-id-5 div.sk-toggleable__content {max-height: 0;max-width: 0;overflow: hidden;text-align: left;background-color: #f0f8ff;}#sk-container-id-5 div.sk-toggleable__content pre {margin: 0.2em;color: black;border-radius: 0.25em;background-color: #f0f8ff;}#sk-container-id-5 input.sk-toggleable__control:checked~div.sk-toggleable__content {max-height: 200px;max-width: 100%;overflow: auto;}#sk-container-id-5 input.sk-toggleable__control:checked~label.sk-toggleable__label-arrow:before {content: \"▾\";}#sk-container-id-5 div.sk-estimator input.sk-toggleable__control:checked~label.sk-toggleable__label {background-color: #d4ebff;}#sk-container-id-5 div.sk-label input.sk-toggleable__control:checked~label.sk-toggleable__label {background-color: #d4ebff;}#sk-container-id-5 input.sk-hidden--visually {border: 0;clip: rect(1px 1px 1px 1px);clip: rect(1px, 1px, 1px, 1px);height: 1px;margin: -1px;overflow: hidden;padding: 0;position: absolute;width: 1px;}#sk-container-id-5 div.sk-estimator {font-family: monospace;background-color: #f0f8ff;border: 1px dotted black;border-radius: 0.25em;box-sizing: border-box;margin-bottom: 0.5em;}#sk-container-id-5 div.sk-estimator:hover {background-color: #d4ebff;}#sk-container-id-5 div.sk-parallel-item::after {content: \"\";width: 100%;border-bottom: 1px solid gray;flex-grow: 1;}#sk-container-id-5 div.sk-label:hover label.sk-toggleable__label {background-color: #d4ebff;}#sk-container-id-5 div.sk-serial::before {content: \"\";position: absolute;border-left: 1px solid gray;box-sizing: border-box;top: 0;bottom: 0;left: 50%;z-index: 0;}#sk-container-id-5 div.sk-serial {display: flex;flex-direction: column;align-items: center;background-color: white;padding-right: 0.2em;padding-left: 0.2em;position: relative;}#sk-container-id-5 div.sk-item {position: relative;z-index: 1;}#sk-container-id-5 div.sk-parallel {display: flex;align-items: stretch;justify-content: center;background-color: white;position: relative;}#sk-container-id-5 div.sk-item::before, #sk-container-id-5 div.sk-parallel-item::before {content: \"\";position: absolute;border-left: 1px solid gray;box-sizing: border-box;top: 0;bottom: 0;left: 50%;z-index: -1;}#sk-container-id-5 div.sk-parallel-item {display: flex;flex-direction: column;z-index: 1;position: relative;background-color: white;}#sk-container-id-5 div.sk-parallel-item:first-child::after {align-self: flex-end;width: 50%;}#sk-container-id-5 div.sk-parallel-item:last-child::after {align-self: flex-start;width: 50%;}#sk-container-id-5 div.sk-parallel-item:only-child::after {width: 0;}#sk-container-id-5 div.sk-dashed-wrapped {border: 1px dashed gray;margin: 0 0.4em 0.5em 0.4em;box-sizing: border-box;padding-bottom: 0.4em;background-color: white;}#sk-container-id-5 div.sk-label label {font-family: monospace;font-weight: bold;display: inline-block;line-height: 1.2em;}#sk-container-id-5 div.sk-label-container {text-align: center;}#sk-container-id-5 div.sk-container {/* jupyter's `normalize.less` sets `[hidden] { display: none; }` but bootstrap.min.css set `[hidden] { display: none !important; }` so we also need the `!important` here to be able to override the default hidden behavior on the sphinx rendered scikit-learn.org. See: https://github.com/scikit-learn/scikit-learn/issues/21755 */display: inline-block !important;position: relative;}#sk-container-id-5 div.sk-text-repr-fallback {display: none;}</style><div id=\"sk-container-id-5\" class=\"sk-top-container\"><div class=\"sk-text-repr-fallback\"><pre>Ridge()</pre><b>In a Jupyter environment, please rerun this cell to show the HTML representation or trust the notebook. <br />On GitHub, the HTML representation is unable to render, please try loading this page with nbviewer.org.</b></div><div class=\"sk-container\" hidden><div class=\"sk-item\"><div class=\"sk-estimator sk-toggleable\"><input class=\"sk-toggleable__control sk-hidden--visually\" id=\"sk-estimator-id-9\" type=\"checkbox\" checked><label for=\"sk-estimator-id-9\" class=\"sk-toggleable__label sk-toggleable__label-arrow\">Ridge</label><div class=\"sk-toggleable__content\"><pre>Ridge()</pre></div></div></div></div></div>"
            ],
            "text/plain": [
              "Ridge()"
            ]
          },
          "execution_count": 45,
          "metadata": {},
          "output_type": "execute_result"
        }
      ],
      "source": [
        "ridgemodel =Ridge()\n",
        "ridgemodel"
      ]
    },
    {
      "cell_type": "code",
      "execution_count": null,
      "id": "2e500b32",
      "metadata": {
        "id": "2e500b32"
      },
      "outputs": [],
      "source": [
        "param_ridge={\n",
        "    'alpha' :[1.0,0.01,2,3,0.05,0.07,0.09,0.1,0.3,0.6,0.9],\n",
        "    'fit_intercept':[True],\n",
        "    'normalize':['deprecated'],\n",
        "    'copy_X':[True],\n",
        "    'max_iter':[1000,2000,5000,10000,13000,15000],\n",
        "    'tol':[0.001,0.004,0.002,0.003],\n",
        "    'solver':['auto','saga'],\n",
        "    'positive':[True],\n",
        "    'random_state':[0]\n",
        "}"
      ]
    },
    {
      "cell_type": "code",
      "execution_count": null,
      "id": "e4145c90",
      "metadata": {
        "id": "e4145c90",
        "outputId": "56bb3d3f-2617-4832-cab2-48005366ef83"
      },
      "outputs": [
        {
          "data": {
            "text/html": [
              "<style>#sk-container-id-6 {color: black;background-color: white;}#sk-container-id-6 pre{padding: 0;}#sk-container-id-6 div.sk-toggleable {background-color: white;}#sk-container-id-6 label.sk-toggleable__label {cursor: pointer;display: block;width: 100%;margin-bottom: 0;padding: 0.3em;box-sizing: border-box;text-align: center;}#sk-container-id-6 label.sk-toggleable__label-arrow:before {content: \"▸\";float: left;margin-right: 0.25em;color: #696969;}#sk-container-id-6 label.sk-toggleable__label-arrow:hover:before {color: black;}#sk-container-id-6 div.sk-estimator:hover label.sk-toggleable__label-arrow:before {color: black;}#sk-container-id-6 div.sk-toggleable__content {max-height: 0;max-width: 0;overflow: hidden;text-align: left;background-color: #f0f8ff;}#sk-container-id-6 div.sk-toggleable__content pre {margin: 0.2em;color: black;border-radius: 0.25em;background-color: #f0f8ff;}#sk-container-id-6 input.sk-toggleable__control:checked~div.sk-toggleable__content {max-height: 200px;max-width: 100%;overflow: auto;}#sk-container-id-6 input.sk-toggleable__control:checked~label.sk-toggleable__label-arrow:before {content: \"▾\";}#sk-container-id-6 div.sk-estimator input.sk-toggleable__control:checked~label.sk-toggleable__label {background-color: #d4ebff;}#sk-container-id-6 div.sk-label input.sk-toggleable__control:checked~label.sk-toggleable__label {background-color: #d4ebff;}#sk-container-id-6 input.sk-hidden--visually {border: 0;clip: rect(1px 1px 1px 1px);clip: rect(1px, 1px, 1px, 1px);height: 1px;margin: -1px;overflow: hidden;padding: 0;position: absolute;width: 1px;}#sk-container-id-6 div.sk-estimator {font-family: monospace;background-color: #f0f8ff;border: 1px dotted black;border-radius: 0.25em;box-sizing: border-box;margin-bottom: 0.5em;}#sk-container-id-6 div.sk-estimator:hover {background-color: #d4ebff;}#sk-container-id-6 div.sk-parallel-item::after {content: \"\";width: 100%;border-bottom: 1px solid gray;flex-grow: 1;}#sk-container-id-6 div.sk-label:hover label.sk-toggleable__label {background-color: #d4ebff;}#sk-container-id-6 div.sk-serial::before {content: \"\";position: absolute;border-left: 1px solid gray;box-sizing: border-box;top: 0;bottom: 0;left: 50%;z-index: 0;}#sk-container-id-6 div.sk-serial {display: flex;flex-direction: column;align-items: center;background-color: white;padding-right: 0.2em;padding-left: 0.2em;position: relative;}#sk-container-id-6 div.sk-item {position: relative;z-index: 1;}#sk-container-id-6 div.sk-parallel {display: flex;align-items: stretch;justify-content: center;background-color: white;position: relative;}#sk-container-id-6 div.sk-item::before, #sk-container-id-6 div.sk-parallel-item::before {content: \"\";position: absolute;border-left: 1px solid gray;box-sizing: border-box;top: 0;bottom: 0;left: 50%;z-index: -1;}#sk-container-id-6 div.sk-parallel-item {display: flex;flex-direction: column;z-index: 1;position: relative;background-color: white;}#sk-container-id-6 div.sk-parallel-item:first-child::after {align-self: flex-end;width: 50%;}#sk-container-id-6 div.sk-parallel-item:last-child::after {align-self: flex-start;width: 50%;}#sk-container-id-6 div.sk-parallel-item:only-child::after {width: 0;}#sk-container-id-6 div.sk-dashed-wrapped {border: 1px dashed gray;margin: 0 0.4em 0.5em 0.4em;box-sizing: border-box;padding-bottom: 0.4em;background-color: white;}#sk-container-id-6 div.sk-label label {font-family: monospace;font-weight: bold;display: inline-block;line-height: 1.2em;}#sk-container-id-6 div.sk-label-container {text-align: center;}#sk-container-id-6 div.sk-container {/* jupyter's `normalize.less` sets `[hidden] { display: none; }` but bootstrap.min.css set `[hidden] { display: none !important; }` so we also need the `!important` here to be able to override the default hidden behavior on the sphinx rendered scikit-learn.org. See: https://github.com/scikit-learn/scikit-learn/issues/21755 */display: inline-block !important;position: relative;}#sk-container-id-6 div.sk-text-repr-fallback {display: none;}</style><div id=\"sk-container-id-6\" class=\"sk-top-container\"><div class=\"sk-text-repr-fallback\"><pre>GridSearchCV(cv=5, estimator=Ridge(),\n",
              "             param_grid={&#x27;alpha&#x27;: [1.0, 0.01, 2, 3, 0.05, 0.07, 0.09, 0.1, 0.3,\n",
              "                                   0.6, 0.9],\n",
              "                         &#x27;copy_X&#x27;: [True], &#x27;fit_intercept&#x27;: [True],\n",
              "                         &#x27;max_iter&#x27;: [1000, 2000, 5000, 10000, 13000, 15000],\n",
              "                         &#x27;normalize&#x27;: [&#x27;deprecated&#x27;], &#x27;positive&#x27;: [True],\n",
              "                         &#x27;random_state&#x27;: [0], &#x27;solver&#x27;: [&#x27;auto&#x27;, &#x27;saga&#x27;],\n",
              "                         &#x27;tol&#x27;: [0.001, 0.004, 0.002, 0.003]})</pre><b>In a Jupyter environment, please rerun this cell to show the HTML representation or trust the notebook. <br />On GitHub, the HTML representation is unable to render, please try loading this page with nbviewer.org.</b></div><div class=\"sk-container\" hidden><div class=\"sk-item sk-dashed-wrapped\"><div class=\"sk-label-container\"><div class=\"sk-label sk-toggleable\"><input class=\"sk-toggleable__control sk-hidden--visually\" id=\"sk-estimator-id-10\" type=\"checkbox\" ><label for=\"sk-estimator-id-10\" class=\"sk-toggleable__label sk-toggleable__label-arrow\">GridSearchCV</label><div class=\"sk-toggleable__content\"><pre>GridSearchCV(cv=5, estimator=Ridge(),\n",
              "             param_grid={&#x27;alpha&#x27;: [1.0, 0.01, 2, 3, 0.05, 0.07, 0.09, 0.1, 0.3,\n",
              "                                   0.6, 0.9],\n",
              "                         &#x27;copy_X&#x27;: [True], &#x27;fit_intercept&#x27;: [True],\n",
              "                         &#x27;max_iter&#x27;: [1000, 2000, 5000, 10000, 13000, 15000],\n",
              "                         &#x27;normalize&#x27;: [&#x27;deprecated&#x27;], &#x27;positive&#x27;: [True],\n",
              "                         &#x27;random_state&#x27;: [0], &#x27;solver&#x27;: [&#x27;auto&#x27;, &#x27;saga&#x27;],\n",
              "                         &#x27;tol&#x27;: [0.001, 0.004, 0.002, 0.003]})</pre></div></div></div><div class=\"sk-parallel\"><div class=\"sk-parallel-item\"><div class=\"sk-item\"><div class=\"sk-label-container\"><div class=\"sk-label sk-toggleable\"><input class=\"sk-toggleable__control sk-hidden--visually\" id=\"sk-estimator-id-11\" type=\"checkbox\" ><label for=\"sk-estimator-id-11\" class=\"sk-toggleable__label sk-toggleable__label-arrow\">estimator: Ridge</label><div class=\"sk-toggleable__content\"><pre>Ridge()</pre></div></div></div><div class=\"sk-serial\"><div class=\"sk-item\"><div class=\"sk-estimator sk-toggleable\"><input class=\"sk-toggleable__control sk-hidden--visually\" id=\"sk-estimator-id-12\" type=\"checkbox\" ><label for=\"sk-estimator-id-12\" class=\"sk-toggleable__label sk-toggleable__label-arrow\">Ridge</label><div class=\"sk-toggleable__content\"><pre>Ridge()</pre></div></div></div></div></div></div></div></div></div></div>"
            ],
            "text/plain": [
              "GridSearchCV(cv=5, estimator=Ridge(),\n",
              "             param_grid={'alpha': [1.0, 0.01, 2, 3, 0.05, 0.07, 0.09, 0.1, 0.3,\n",
              "                                   0.6, 0.9],\n",
              "                         'copy_X': [True], 'fit_intercept': [True],\n",
              "                         'max_iter': [1000, 2000, 5000, 10000, 13000, 15000],\n",
              "                         'normalize': ['deprecated'], 'positive': [True],\n",
              "                         'random_state': [0], 'solver': ['auto', 'saga'],\n",
              "                         'tol': [0.001, 0.004, 0.002, 0.003]})"
            ]
          },
          "execution_count": 47,
          "metadata": {},
          "output_type": "execute_result"
        }
      ],
      "source": [
        "ridge_model=GridSearchCV(ridgemodel,\n",
        "    param_grid=param_ridge,\n",
        "    cv=5)\n",
        "ridge_model"
      ]
    },
    {
      "cell_type": "code",
      "execution_count": null,
      "id": "19a3428d",
      "metadata": {
        "id": "19a3428d",
        "outputId": "0fbdf590-4368-4e23-d330-ad36e3c30651"
      },
      "outputs": [
        {
          "name": "stderr",
          "output_type": "stream",
          "text": [
            "C:\\Users\\HP\\AppData\\Roaming\\Python\\Python39\\site-packages\\sklearn\\model_selection\\_validation.py:378: FitFailedWarning: \n",
            "1320 fits failed out of a total of 2640.\n",
            "The score on these train-test partitions for these parameters will be set to nan.\n",
            "If these failures are not expected, you can try to debug them by setting error_score='raise'.\n",
            "\n",
            "Below are more details about the failures:\n",
            "--------------------------------------------------------------------------------\n",
            "1320 fits failed with the following error:\n",
            "Traceback (most recent call last):\n",
            "  File \"C:\\Users\\HP\\AppData\\Roaming\\Python\\Python39\\site-packages\\sklearn\\model_selection\\_validation.py\", line 686, in _fit_and_score\n",
            "    estimator.fit(X_train, y_train, **fit_params)\n",
            "  File \"C:\\Users\\HP\\AppData\\Roaming\\Python\\Python39\\site-packages\\sklearn\\linear_model\\_ridge.py\", line 1130, in fit\n",
            "    return super().fit(X, y, sample_weight=sample_weight)\n",
            "  File \"C:\\Users\\HP\\AppData\\Roaming\\Python\\Python39\\site-packages\\sklearn\\linear_model\\_ridge.py\", line 813, in fit\n",
            "    raise ValueError(\n",
            "ValueError: solver='saga' does not support positive fitting. Please set the solver to 'auto' or 'lbfgs', or set `positive=False`\n",
            "\n",
            "  warnings.warn(some_fits_failed_message, FitFailedWarning)\n",
            "C:\\Users\\HP\\AppData\\Roaming\\Python\\Python39\\site-packages\\sklearn\\model_selection\\_search.py:953: UserWarning: One or more of the test scores are non-finite: [0.86943895 0.86943895 0.86943895 0.86943895        nan        nan\n",
            "        nan        nan 0.86943895 0.86943895 0.86943895 0.86943895\n",
            "        nan        nan        nan        nan 0.86943895 0.86943895\n",
            " 0.86943895 0.86943895        nan        nan        nan        nan\n",
            " 0.86943895 0.86943895 0.86943895 0.86943895        nan        nan\n",
            "        nan        nan 0.86943895 0.86943895 0.86943895 0.86943895\n",
            "        nan        nan        nan        nan 0.86943895 0.86943895\n",
            " 0.86943895 0.86943895        nan        nan        nan        nan\n",
            " 0.86943931 0.86943931 0.86943931 0.86943931        nan        nan\n",
            "        nan        nan 0.86943931 0.86943931 0.86943931 0.86943931\n",
            "        nan        nan        nan        nan 0.86943931 0.86943931\n",
            " 0.86943931 0.86943931        nan        nan        nan        nan\n",
            " 0.86943931 0.86943931 0.86943931 0.86943931        nan        nan\n",
            "        nan        nan 0.86943931 0.86943931 0.86943931 0.86943931\n",
            "        nan        nan        nan        nan 0.86943931 0.86943931\n",
            " 0.86943931 0.86943931        nan        nan        nan        nan\n",
            " 0.86943858 0.86943858 0.86943858 0.86943858        nan        nan\n",
            "        nan        nan 0.86943858 0.86943858 0.86943858 0.86943858\n",
            "        nan        nan        nan        nan 0.86943858 0.86943858\n",
            " 0.86943858 0.86943858        nan        nan        nan        nan\n",
            " 0.86943858 0.86943858 0.86943858 0.86943858        nan        nan\n",
            "        nan        nan 0.86943858 0.86943858 0.86943858 0.86943858\n",
            "        nan        nan        nan        nan 0.86943858 0.86943858\n",
            " 0.86943858 0.86943858        nan        nan        nan        nan\n",
            " 0.8694382  0.8694382  0.8694382  0.8694382         nan        nan\n",
            "        nan        nan 0.8694382  0.8694382  0.8694382  0.8694382\n",
            "        nan        nan        nan        nan 0.8694382  0.8694382\n",
            " 0.8694382  0.8694382         nan        nan        nan        nan\n",
            " 0.8694382  0.8694382  0.8694382  0.8694382         nan        nan\n",
            "        nan        nan 0.8694382  0.8694382  0.8694382  0.8694382\n",
            "        nan        nan        nan        nan 0.8694382  0.8694382\n",
            " 0.8694382  0.8694382         nan        nan        nan        nan\n",
            " 0.8694393  0.8694393  0.8694393  0.8694393         nan        nan\n",
            "        nan        nan 0.8694393  0.8694393  0.8694393  0.8694393\n",
            "        nan        nan        nan        nan 0.8694393  0.8694393\n",
            " 0.8694393  0.8694393         nan        nan        nan        nan\n",
            " 0.8694393  0.8694393  0.8694393  0.8694393         nan        nan\n",
            "        nan        nan 0.8694393  0.8694393  0.8694393  0.8694393\n",
            "        nan        nan        nan        nan 0.8694393  0.8694393\n",
            " 0.8694393  0.8694393         nan        nan        nan        nan\n",
            " 0.86943929 0.86943929 0.86943929 0.86943929        nan        nan\n",
            "        nan        nan 0.86943929 0.86943929 0.86943929 0.86943929\n",
            "        nan        nan        nan        nan 0.86943929 0.86943929\n",
            " 0.86943929 0.86943929        nan        nan        nan        nan\n",
            " 0.86943929 0.86943929 0.86943929 0.86943929        nan        nan\n",
            "        nan        nan 0.86943929 0.86943929 0.86943929 0.86943929\n",
            "        nan        nan        nan        nan 0.86943929 0.86943929\n",
            " 0.86943929 0.86943929        nan        nan        nan        nan\n",
            " 0.86943928 0.86943928 0.86943928 0.86943928        nan        nan\n",
            "        nan        nan 0.86943928 0.86943928 0.86943928 0.86943928\n",
            "        nan        nan        nan        nan 0.86943928 0.86943928\n",
            " 0.86943928 0.86943928        nan        nan        nan        nan\n",
            " 0.86943928 0.86943928 0.86943928 0.86943928        nan        nan\n",
            "        nan        nan 0.86943928 0.86943928 0.86943928 0.86943928\n",
            "        nan        nan        nan        nan 0.86943928 0.86943928\n",
            " 0.86943928 0.86943928        nan        nan        nan        nan\n",
            " 0.86943928 0.86943928 0.86943928 0.86943928        nan        nan\n",
            "        nan        nan 0.86943928 0.86943928 0.86943928 0.86943928\n",
            "        nan        nan        nan        nan 0.86943928 0.86943928\n",
            " 0.86943928 0.86943928        nan        nan        nan        nan\n",
            " 0.86943928 0.86943928 0.86943928 0.86943928        nan        nan\n",
            "        nan        nan 0.86943928 0.86943928 0.86943928 0.86943928\n",
            "        nan        nan        nan        nan 0.86943928 0.86943928\n",
            " 0.86943928 0.86943928        nan        nan        nan        nan\n",
            " 0.86943921 0.86943921 0.86943921 0.86943921        nan        nan\n",
            "        nan        nan 0.86943921 0.86943921 0.86943921 0.86943921\n",
            "        nan        nan        nan        nan 0.86943921 0.86943921\n",
            " 0.86943921 0.86943921        nan        nan        nan        nan\n",
            " 0.86943921 0.86943921 0.86943921 0.86943921        nan        nan\n",
            "        nan        nan 0.86943921 0.86943921 0.86943921 0.86943921\n",
            "        nan        nan        nan        nan 0.86943921 0.86943921\n",
            " 0.86943921 0.86943921        nan        nan        nan        nan\n",
            " 0.8694391  0.8694391  0.8694391  0.8694391         nan        nan\n",
            "        nan        nan 0.8694391  0.8694391  0.8694391  0.8694391\n",
            "        nan        nan        nan        nan 0.8694391  0.8694391\n",
            " 0.8694391  0.8694391         nan        nan        nan        nan\n",
            " 0.8694391  0.8694391  0.8694391  0.8694391         nan        nan\n",
            "        nan        nan 0.8694391  0.8694391  0.8694391  0.8694391\n",
            "        nan        nan        nan        nan 0.8694391  0.8694391\n",
            " 0.8694391  0.8694391         nan        nan        nan        nan\n",
            " 0.86943898 0.86943898 0.86943898 0.86943898        nan        nan\n",
            "        nan        nan 0.86943898 0.86943898 0.86943898 0.86943898\n",
            "        nan        nan        nan        nan 0.86943898 0.86943898\n",
            " 0.86943898 0.86943898        nan        nan        nan        nan\n",
            " 0.86943898 0.86943898 0.86943898 0.86943898        nan        nan\n",
            "        nan        nan 0.86943898 0.86943898 0.86943898 0.86943898\n",
            "        nan        nan        nan        nan 0.86943898 0.86943898\n",
            " 0.86943898 0.86943898        nan        nan        nan        nan]\n",
            "  warnings.warn(\n"
          ]
        },
        {
          "data": {
            "text/html": [
              "<style>#sk-container-id-7 {color: black;background-color: white;}#sk-container-id-7 pre{padding: 0;}#sk-container-id-7 div.sk-toggleable {background-color: white;}#sk-container-id-7 label.sk-toggleable__label {cursor: pointer;display: block;width: 100%;margin-bottom: 0;padding: 0.3em;box-sizing: border-box;text-align: center;}#sk-container-id-7 label.sk-toggleable__label-arrow:before {content: \"▸\";float: left;margin-right: 0.25em;color: #696969;}#sk-container-id-7 label.sk-toggleable__label-arrow:hover:before {color: black;}#sk-container-id-7 div.sk-estimator:hover label.sk-toggleable__label-arrow:before {color: black;}#sk-container-id-7 div.sk-toggleable__content {max-height: 0;max-width: 0;overflow: hidden;text-align: left;background-color: #f0f8ff;}#sk-container-id-7 div.sk-toggleable__content pre {margin: 0.2em;color: black;border-radius: 0.25em;background-color: #f0f8ff;}#sk-container-id-7 input.sk-toggleable__control:checked~div.sk-toggleable__content {max-height: 200px;max-width: 100%;overflow: auto;}#sk-container-id-7 input.sk-toggleable__control:checked~label.sk-toggleable__label-arrow:before {content: \"▾\";}#sk-container-id-7 div.sk-estimator input.sk-toggleable__control:checked~label.sk-toggleable__label {background-color: #d4ebff;}#sk-container-id-7 div.sk-label input.sk-toggleable__control:checked~label.sk-toggleable__label {background-color: #d4ebff;}#sk-container-id-7 input.sk-hidden--visually {border: 0;clip: rect(1px 1px 1px 1px);clip: rect(1px, 1px, 1px, 1px);height: 1px;margin: -1px;overflow: hidden;padding: 0;position: absolute;width: 1px;}#sk-container-id-7 div.sk-estimator {font-family: monospace;background-color: #f0f8ff;border: 1px dotted black;border-radius: 0.25em;box-sizing: border-box;margin-bottom: 0.5em;}#sk-container-id-7 div.sk-estimator:hover {background-color: #d4ebff;}#sk-container-id-7 div.sk-parallel-item::after {content: \"\";width: 100%;border-bottom: 1px solid gray;flex-grow: 1;}#sk-container-id-7 div.sk-label:hover label.sk-toggleable__label {background-color: #d4ebff;}#sk-container-id-7 div.sk-serial::before {content: \"\";position: absolute;border-left: 1px solid gray;box-sizing: border-box;top: 0;bottom: 0;left: 50%;z-index: 0;}#sk-container-id-7 div.sk-serial {display: flex;flex-direction: column;align-items: center;background-color: white;padding-right: 0.2em;padding-left: 0.2em;position: relative;}#sk-container-id-7 div.sk-item {position: relative;z-index: 1;}#sk-container-id-7 div.sk-parallel {display: flex;align-items: stretch;justify-content: center;background-color: white;position: relative;}#sk-container-id-7 div.sk-item::before, #sk-container-id-7 div.sk-parallel-item::before {content: \"\";position: absolute;border-left: 1px solid gray;box-sizing: border-box;top: 0;bottom: 0;left: 50%;z-index: -1;}#sk-container-id-7 div.sk-parallel-item {display: flex;flex-direction: column;z-index: 1;position: relative;background-color: white;}#sk-container-id-7 div.sk-parallel-item:first-child::after {align-self: flex-end;width: 50%;}#sk-container-id-7 div.sk-parallel-item:last-child::after {align-self: flex-start;width: 50%;}#sk-container-id-7 div.sk-parallel-item:only-child::after {width: 0;}#sk-container-id-7 div.sk-dashed-wrapped {border: 1px dashed gray;margin: 0 0.4em 0.5em 0.4em;box-sizing: border-box;padding-bottom: 0.4em;background-color: white;}#sk-container-id-7 div.sk-label label {font-family: monospace;font-weight: bold;display: inline-block;line-height: 1.2em;}#sk-container-id-7 div.sk-label-container {text-align: center;}#sk-container-id-7 div.sk-container {/* jupyter's `normalize.less` sets `[hidden] { display: none; }` but bootstrap.min.css set `[hidden] { display: none !important; }` so we also need the `!important` here to be able to override the default hidden behavior on the sphinx rendered scikit-learn.org. See: https://github.com/scikit-learn/scikit-learn/issues/21755 */display: inline-block !important;position: relative;}#sk-container-id-7 div.sk-text-repr-fallback {display: none;}</style><div id=\"sk-container-id-7\" class=\"sk-top-container\"><div class=\"sk-text-repr-fallback\"><pre>GridSearchCV(cv=5, estimator=Ridge(),\n",
              "             param_grid={&#x27;alpha&#x27;: [1.0, 0.01, 2, 3, 0.05, 0.07, 0.09, 0.1, 0.3,\n",
              "                                   0.6, 0.9],\n",
              "                         &#x27;copy_X&#x27;: [True], &#x27;fit_intercept&#x27;: [True],\n",
              "                         &#x27;max_iter&#x27;: [1000, 2000, 5000, 10000, 13000, 15000],\n",
              "                         &#x27;normalize&#x27;: [&#x27;deprecated&#x27;], &#x27;positive&#x27;: [True],\n",
              "                         &#x27;random_state&#x27;: [0], &#x27;solver&#x27;: [&#x27;auto&#x27;, &#x27;saga&#x27;],\n",
              "                         &#x27;tol&#x27;: [0.001, 0.004, 0.002, 0.003]})</pre><b>In a Jupyter environment, please rerun this cell to show the HTML representation or trust the notebook. <br />On GitHub, the HTML representation is unable to render, please try loading this page with nbviewer.org.</b></div><div class=\"sk-container\" hidden><div class=\"sk-item sk-dashed-wrapped\"><div class=\"sk-label-container\"><div class=\"sk-label sk-toggleable\"><input class=\"sk-toggleable__control sk-hidden--visually\" id=\"sk-estimator-id-13\" type=\"checkbox\" ><label for=\"sk-estimator-id-13\" class=\"sk-toggleable__label sk-toggleable__label-arrow\">GridSearchCV</label><div class=\"sk-toggleable__content\"><pre>GridSearchCV(cv=5, estimator=Ridge(),\n",
              "             param_grid={&#x27;alpha&#x27;: [1.0, 0.01, 2, 3, 0.05, 0.07, 0.09, 0.1, 0.3,\n",
              "                                   0.6, 0.9],\n",
              "                         &#x27;copy_X&#x27;: [True], &#x27;fit_intercept&#x27;: [True],\n",
              "                         &#x27;max_iter&#x27;: [1000, 2000, 5000, 10000, 13000, 15000],\n",
              "                         &#x27;normalize&#x27;: [&#x27;deprecated&#x27;], &#x27;positive&#x27;: [True],\n",
              "                         &#x27;random_state&#x27;: [0], &#x27;solver&#x27;: [&#x27;auto&#x27;, &#x27;saga&#x27;],\n",
              "                         &#x27;tol&#x27;: [0.001, 0.004, 0.002, 0.003]})</pre></div></div></div><div class=\"sk-parallel\"><div class=\"sk-parallel-item\"><div class=\"sk-item\"><div class=\"sk-label-container\"><div class=\"sk-label sk-toggleable\"><input class=\"sk-toggleable__control sk-hidden--visually\" id=\"sk-estimator-id-14\" type=\"checkbox\" ><label for=\"sk-estimator-id-14\" class=\"sk-toggleable__label sk-toggleable__label-arrow\">estimator: Ridge</label><div class=\"sk-toggleable__content\"><pre>Ridge()</pre></div></div></div><div class=\"sk-serial\"><div class=\"sk-item\"><div class=\"sk-estimator sk-toggleable\"><input class=\"sk-toggleable__control sk-hidden--visually\" id=\"sk-estimator-id-15\" type=\"checkbox\" ><label for=\"sk-estimator-id-15\" class=\"sk-toggleable__label sk-toggleable__label-arrow\">Ridge</label><div class=\"sk-toggleable__content\"><pre>Ridge()</pre></div></div></div></div></div></div></div></div></div></div>"
            ],
            "text/plain": [
              "GridSearchCV(cv=5, estimator=Ridge(),\n",
              "             param_grid={'alpha': [1.0, 0.01, 2, 3, 0.05, 0.07, 0.09, 0.1, 0.3,\n",
              "                                   0.6, 0.9],\n",
              "                         'copy_X': [True], 'fit_intercept': [True],\n",
              "                         'max_iter': [1000, 2000, 5000, 10000, 13000, 15000],\n",
              "                         'normalize': ['deprecated'], 'positive': [True],\n",
              "                         'random_state': [0], 'solver': ['auto', 'saga'],\n",
              "                         'tol': [0.001, 0.004, 0.002, 0.003]})"
            ]
          },
          "execution_count": 48,
          "metadata": {},
          "output_type": "execute_result"
        }
      ],
      "source": [
        "ridge_model.fit(xtrain,ytrain)"
      ]
    },
    {
      "cell_type": "code",
      "execution_count": null,
      "id": "4d2aeb9f",
      "metadata": {
        "id": "4d2aeb9f"
      },
      "outputs": [],
      "source": [
        "ridgepred = ridge_model.predict(xtest)"
      ]
    },
    {
      "cell_type": "code",
      "execution_count": null,
      "id": "cfde6da6",
      "metadata": {
        "id": "cfde6da6",
        "outputId": "5538c0aa-e08f-4c21-e139-225304b939c6"
      },
      "outputs": [
        {
          "data": {
            "text/plain": [
              "0.8843476252344077"
            ]
          },
          "execution_count": 50,
          "metadata": {},
          "output_type": "execute_result"
        }
      ],
      "source": [
        "ridge_model.score(xtrain,ytrain)"
      ]
    },
    {
      "cell_type": "code",
      "execution_count": null,
      "id": "29cd6aae",
      "metadata": {
        "id": "29cd6aae",
        "outputId": "82f9ace7-4d17-4387-e0fe-75a217b37f04"
      },
      "outputs": [
        {
          "data": {
            "text/plain": [
              "0.922305942154056"
            ]
          },
          "execution_count": 51,
          "metadata": {},
          "output_type": "execute_result"
        }
      ],
      "source": [
        "ridge_model.score(xtest,ytest)"
      ]
    },
    {
      "cell_type": "markdown",
      "id": "f3e4907d",
      "metadata": {
        "id": "f3e4907d"
      },
      "source": [
        "# Lasso"
      ]
    },
    {
      "cell_type": "code",
      "execution_count": null,
      "id": "d0465b21",
      "metadata": {
        "id": "d0465b21",
        "outputId": "da5d13bc-a932-47ef-eac9-2942f82ae094"
      },
      "outputs": [
        {
          "data": {
            "text/plain": [
              "0.9204771495691686"
            ]
          },
          "execution_count": 52,
          "metadata": {},
          "output_type": "execute_result"
        }
      ],
      "source": [
        "lasso = Lasso()\n",
        "lasso.fit(xtrain,ytrain)\n",
        "lasso.predict(xtest)\n",
        "lasso.score(xtrain,ytrain)\n",
        "lasso.score(xtest,ytest)"
      ]
    },
    {
      "cell_type": "code",
      "execution_count": null,
      "id": "eece91dd",
      "metadata": {
        "id": "eece91dd"
      },
      "outputs": [],
      "source": [
        "lasso_grid_para={\n",
        "    'alpha':[1.0,0.01,0.2,0.3,0.01,0.02],\n",
        "    'fit_intercept':[True],\n",
        "    'normalize':['deprecated'],\n",
        "    'copy_X':[True],\n",
        "    'max_iter':[1000,2000,5000,7000,10000,13000,15000],\n",
        "    'positive':[False],\n",
        "    'random_state':[0],\n",
        "    'selection':['cyclic']\n",
        "}"
      ]
    },
    {
      "cell_type": "code",
      "execution_count": null,
      "id": "1e9a8d78",
      "metadata": {
        "id": "1e9a8d78",
        "outputId": "8f916db7-b45c-4adb-e0a3-004097ef85b3"
      },
      "outputs": [
        {
          "data": {
            "text/html": [
              "<style>#sk-container-id-8 {color: black;background-color: white;}#sk-container-id-8 pre{padding: 0;}#sk-container-id-8 div.sk-toggleable {background-color: white;}#sk-container-id-8 label.sk-toggleable__label {cursor: pointer;display: block;width: 100%;margin-bottom: 0;padding: 0.3em;box-sizing: border-box;text-align: center;}#sk-container-id-8 label.sk-toggleable__label-arrow:before {content: \"▸\";float: left;margin-right: 0.25em;color: #696969;}#sk-container-id-8 label.sk-toggleable__label-arrow:hover:before {color: black;}#sk-container-id-8 div.sk-estimator:hover label.sk-toggleable__label-arrow:before {color: black;}#sk-container-id-8 div.sk-toggleable__content {max-height: 0;max-width: 0;overflow: hidden;text-align: left;background-color: #f0f8ff;}#sk-container-id-8 div.sk-toggleable__content pre {margin: 0.2em;color: black;border-radius: 0.25em;background-color: #f0f8ff;}#sk-container-id-8 input.sk-toggleable__control:checked~div.sk-toggleable__content {max-height: 200px;max-width: 100%;overflow: auto;}#sk-container-id-8 input.sk-toggleable__control:checked~label.sk-toggleable__label-arrow:before {content: \"▾\";}#sk-container-id-8 div.sk-estimator input.sk-toggleable__control:checked~label.sk-toggleable__label {background-color: #d4ebff;}#sk-container-id-8 div.sk-label input.sk-toggleable__control:checked~label.sk-toggleable__label {background-color: #d4ebff;}#sk-container-id-8 input.sk-hidden--visually {border: 0;clip: rect(1px 1px 1px 1px);clip: rect(1px, 1px, 1px, 1px);height: 1px;margin: -1px;overflow: hidden;padding: 0;position: absolute;width: 1px;}#sk-container-id-8 div.sk-estimator {font-family: monospace;background-color: #f0f8ff;border: 1px dotted black;border-radius: 0.25em;box-sizing: border-box;margin-bottom: 0.5em;}#sk-container-id-8 div.sk-estimator:hover {background-color: #d4ebff;}#sk-container-id-8 div.sk-parallel-item::after {content: \"\";width: 100%;border-bottom: 1px solid gray;flex-grow: 1;}#sk-container-id-8 div.sk-label:hover label.sk-toggleable__label {background-color: #d4ebff;}#sk-container-id-8 div.sk-serial::before {content: \"\";position: absolute;border-left: 1px solid gray;box-sizing: border-box;top: 0;bottom: 0;left: 50%;z-index: 0;}#sk-container-id-8 div.sk-serial {display: flex;flex-direction: column;align-items: center;background-color: white;padding-right: 0.2em;padding-left: 0.2em;position: relative;}#sk-container-id-8 div.sk-item {position: relative;z-index: 1;}#sk-container-id-8 div.sk-parallel {display: flex;align-items: stretch;justify-content: center;background-color: white;position: relative;}#sk-container-id-8 div.sk-item::before, #sk-container-id-8 div.sk-parallel-item::before {content: \"\";position: absolute;border-left: 1px solid gray;box-sizing: border-box;top: 0;bottom: 0;left: 50%;z-index: -1;}#sk-container-id-8 div.sk-parallel-item {display: flex;flex-direction: column;z-index: 1;position: relative;background-color: white;}#sk-container-id-8 div.sk-parallel-item:first-child::after {align-self: flex-end;width: 50%;}#sk-container-id-8 div.sk-parallel-item:last-child::after {align-self: flex-start;width: 50%;}#sk-container-id-8 div.sk-parallel-item:only-child::after {width: 0;}#sk-container-id-8 div.sk-dashed-wrapped {border: 1px dashed gray;margin: 0 0.4em 0.5em 0.4em;box-sizing: border-box;padding-bottom: 0.4em;background-color: white;}#sk-container-id-8 div.sk-label label {font-family: monospace;font-weight: bold;display: inline-block;line-height: 1.2em;}#sk-container-id-8 div.sk-label-container {text-align: center;}#sk-container-id-8 div.sk-container {/* jupyter's `normalize.less` sets `[hidden] { display: none; }` but bootstrap.min.css set `[hidden] { display: none !important; }` so we also need the `!important` here to be able to override the default hidden behavior on the sphinx rendered scikit-learn.org. See: https://github.com/scikit-learn/scikit-learn/issues/21755 */display: inline-block !important;position: relative;}#sk-container-id-8 div.sk-text-repr-fallback {display: none;}</style><div id=\"sk-container-id-8\" class=\"sk-top-container\"><div class=\"sk-text-repr-fallback\"><pre>GridSearchCV(cv=5, estimator=Lasso(), n_jobs=-1,\n",
              "             param_grid={&#x27;alpha&#x27;: [1.0, 0.01, 0.2, 0.3, 0.01, 0.02],\n",
              "                         &#x27;copy_X&#x27;: [True], &#x27;fit_intercept&#x27;: [True],\n",
              "                         &#x27;max_iter&#x27;: [1000, 2000, 5000, 7000, 10000, 13000,\n",
              "                                      15000],\n",
              "                         &#x27;normalize&#x27;: [&#x27;deprecated&#x27;], &#x27;positive&#x27;: [False],\n",
              "                         &#x27;random_state&#x27;: [0], &#x27;selection&#x27;: [&#x27;cyclic&#x27;]})</pre><b>In a Jupyter environment, please rerun this cell to show the HTML representation or trust the notebook. <br />On GitHub, the HTML representation is unable to render, please try loading this page with nbviewer.org.</b></div><div class=\"sk-container\" hidden><div class=\"sk-item sk-dashed-wrapped\"><div class=\"sk-label-container\"><div class=\"sk-label sk-toggleable\"><input class=\"sk-toggleable__control sk-hidden--visually\" id=\"sk-estimator-id-16\" type=\"checkbox\" ><label for=\"sk-estimator-id-16\" class=\"sk-toggleable__label sk-toggleable__label-arrow\">GridSearchCV</label><div class=\"sk-toggleable__content\"><pre>GridSearchCV(cv=5, estimator=Lasso(), n_jobs=-1,\n",
              "             param_grid={&#x27;alpha&#x27;: [1.0, 0.01, 0.2, 0.3, 0.01, 0.02],\n",
              "                         &#x27;copy_X&#x27;: [True], &#x27;fit_intercept&#x27;: [True],\n",
              "                         &#x27;max_iter&#x27;: [1000, 2000, 5000, 7000, 10000, 13000,\n",
              "                                      15000],\n",
              "                         &#x27;normalize&#x27;: [&#x27;deprecated&#x27;], &#x27;positive&#x27;: [False],\n",
              "                         &#x27;random_state&#x27;: [0], &#x27;selection&#x27;: [&#x27;cyclic&#x27;]})</pre></div></div></div><div class=\"sk-parallel\"><div class=\"sk-parallel-item\"><div class=\"sk-item\"><div class=\"sk-label-container\"><div class=\"sk-label sk-toggleable\"><input class=\"sk-toggleable__control sk-hidden--visually\" id=\"sk-estimator-id-17\" type=\"checkbox\" ><label for=\"sk-estimator-id-17\" class=\"sk-toggleable__label sk-toggleable__label-arrow\">estimator: Lasso</label><div class=\"sk-toggleable__content\"><pre>Lasso()</pre></div></div></div><div class=\"sk-serial\"><div class=\"sk-item\"><div class=\"sk-estimator sk-toggleable\"><input class=\"sk-toggleable__control sk-hidden--visually\" id=\"sk-estimator-id-18\" type=\"checkbox\" ><label for=\"sk-estimator-id-18\" class=\"sk-toggleable__label sk-toggleable__label-arrow\">Lasso</label><div class=\"sk-toggleable__content\"><pre>Lasso()</pre></div></div></div></div></div></div></div></div></div></div>"
            ],
            "text/plain": [
              "GridSearchCV(cv=5, estimator=Lasso(), n_jobs=-1,\n",
              "             param_grid={'alpha': [1.0, 0.01, 0.2, 0.3, 0.01, 0.02],\n",
              "                         'copy_X': [True], 'fit_intercept': [True],\n",
              "                         'max_iter': [1000, 2000, 5000, 7000, 10000, 13000,\n",
              "                                      15000],\n",
              "                         'normalize': ['deprecated'], 'positive': [False],\n",
              "                         'random_state': [0], 'selection': ['cyclic']})"
            ]
          },
          "execution_count": 54,
          "metadata": {},
          "output_type": "execute_result"
        }
      ],
      "source": [
        "grid_model_lasso=GridSearchCV(lasso,\n",
        "    param_grid=lasso_grid_para,\n",
        "    n_jobs=-1,\n",
        "    cv=5)\n",
        "grid_model_lasso"
      ]
    },
    {
      "cell_type": "code",
      "execution_count": null,
      "id": "19619723",
      "metadata": {
        "id": "19619723",
        "outputId": "0504324d-b84b-4bd6-c8cb-a125b43b4a17"
      },
      "outputs": [
        {
          "data": {
            "text/plain": [
              "{'cv': 5,\n",
              " 'error_score': nan,\n",
              " 'estimator__alpha': 1.0,\n",
              " 'estimator__copy_X': True,\n",
              " 'estimator__fit_intercept': True,\n",
              " 'estimator__max_iter': 1000,\n",
              " 'estimator__normalize': 'deprecated',\n",
              " 'estimator__positive': False,\n",
              " 'estimator__precompute': False,\n",
              " 'estimator__random_state': None,\n",
              " 'estimator__selection': 'cyclic',\n",
              " 'estimator__tol': 0.0001,\n",
              " 'estimator__warm_start': False,\n",
              " 'estimator': Lasso(),\n",
              " 'n_jobs': -1,\n",
              " 'param_grid': {'alpha': [1.0, 0.01, 0.2, 0.3, 0.01, 0.02],\n",
              "  'fit_intercept': [True],\n",
              "  'normalize': ['deprecated'],\n",
              "  'copy_X': [True],\n",
              "  'max_iter': [1000, 2000, 5000, 7000, 10000, 13000, 15000],\n",
              "  'positive': [False],\n",
              "  'random_state': [0],\n",
              "  'selection': ['cyclic']},\n",
              " 'pre_dispatch': '2*n_jobs',\n",
              " 'refit': True,\n",
              " 'return_train_score': False,\n",
              " 'scoring': None,\n",
              " 'verbose': 0}"
            ]
          },
          "execution_count": 55,
          "metadata": {},
          "output_type": "execute_result"
        }
      ],
      "source": [
        "grid_model_lasso.get_params()"
      ]
    },
    {
      "cell_type": "code",
      "execution_count": null,
      "id": "94231ca3",
      "metadata": {
        "id": "94231ca3",
        "outputId": "5119b141-d80c-4d79-c386-10b009d783e7"
      },
      "outputs": [
        {
          "data": {
            "text/html": [
              "<style>#sk-container-id-9 {color: black;background-color: white;}#sk-container-id-9 pre{padding: 0;}#sk-container-id-9 div.sk-toggleable {background-color: white;}#sk-container-id-9 label.sk-toggleable__label {cursor: pointer;display: block;width: 100%;margin-bottom: 0;padding: 0.3em;box-sizing: border-box;text-align: center;}#sk-container-id-9 label.sk-toggleable__label-arrow:before {content: \"▸\";float: left;margin-right: 0.25em;color: #696969;}#sk-container-id-9 label.sk-toggleable__label-arrow:hover:before {color: black;}#sk-container-id-9 div.sk-estimator:hover label.sk-toggleable__label-arrow:before {color: black;}#sk-container-id-9 div.sk-toggleable__content {max-height: 0;max-width: 0;overflow: hidden;text-align: left;background-color: #f0f8ff;}#sk-container-id-9 div.sk-toggleable__content pre {margin: 0.2em;color: black;border-radius: 0.25em;background-color: #f0f8ff;}#sk-container-id-9 input.sk-toggleable__control:checked~div.sk-toggleable__content {max-height: 200px;max-width: 100%;overflow: auto;}#sk-container-id-9 input.sk-toggleable__control:checked~label.sk-toggleable__label-arrow:before {content: \"▾\";}#sk-container-id-9 div.sk-estimator input.sk-toggleable__control:checked~label.sk-toggleable__label {background-color: #d4ebff;}#sk-container-id-9 div.sk-label input.sk-toggleable__control:checked~label.sk-toggleable__label {background-color: #d4ebff;}#sk-container-id-9 input.sk-hidden--visually {border: 0;clip: rect(1px 1px 1px 1px);clip: rect(1px, 1px, 1px, 1px);height: 1px;margin: -1px;overflow: hidden;padding: 0;position: absolute;width: 1px;}#sk-container-id-9 div.sk-estimator {font-family: monospace;background-color: #f0f8ff;border: 1px dotted black;border-radius: 0.25em;box-sizing: border-box;margin-bottom: 0.5em;}#sk-container-id-9 div.sk-estimator:hover {background-color: #d4ebff;}#sk-container-id-9 div.sk-parallel-item::after {content: \"\";width: 100%;border-bottom: 1px solid gray;flex-grow: 1;}#sk-container-id-9 div.sk-label:hover label.sk-toggleable__label {background-color: #d4ebff;}#sk-container-id-9 div.sk-serial::before {content: \"\";position: absolute;border-left: 1px solid gray;box-sizing: border-box;top: 0;bottom: 0;left: 50%;z-index: 0;}#sk-container-id-9 div.sk-serial {display: flex;flex-direction: column;align-items: center;background-color: white;padding-right: 0.2em;padding-left: 0.2em;position: relative;}#sk-container-id-9 div.sk-item {position: relative;z-index: 1;}#sk-container-id-9 div.sk-parallel {display: flex;align-items: stretch;justify-content: center;background-color: white;position: relative;}#sk-container-id-9 div.sk-item::before, #sk-container-id-9 div.sk-parallel-item::before {content: \"\";position: absolute;border-left: 1px solid gray;box-sizing: border-box;top: 0;bottom: 0;left: 50%;z-index: -1;}#sk-container-id-9 div.sk-parallel-item {display: flex;flex-direction: column;z-index: 1;position: relative;background-color: white;}#sk-container-id-9 div.sk-parallel-item:first-child::after {align-self: flex-end;width: 50%;}#sk-container-id-9 div.sk-parallel-item:last-child::after {align-self: flex-start;width: 50%;}#sk-container-id-9 div.sk-parallel-item:only-child::after {width: 0;}#sk-container-id-9 div.sk-dashed-wrapped {border: 1px dashed gray;margin: 0 0.4em 0.5em 0.4em;box-sizing: border-box;padding-bottom: 0.4em;background-color: white;}#sk-container-id-9 div.sk-label label {font-family: monospace;font-weight: bold;display: inline-block;line-height: 1.2em;}#sk-container-id-9 div.sk-label-container {text-align: center;}#sk-container-id-9 div.sk-container {/* jupyter's `normalize.less` sets `[hidden] { display: none; }` but bootstrap.min.css set `[hidden] { display: none !important; }` so we also need the `!important` here to be able to override the default hidden behavior on the sphinx rendered scikit-learn.org. See: https://github.com/scikit-learn/scikit-learn/issues/21755 */display: inline-block !important;position: relative;}#sk-container-id-9 div.sk-text-repr-fallback {display: none;}</style><div id=\"sk-container-id-9\" class=\"sk-top-container\"><div class=\"sk-text-repr-fallback\"><pre>GridSearchCV(cv=5, estimator=Lasso(), n_jobs=-1,\n",
              "             param_grid={&#x27;alpha&#x27;: [1.0, 0.01, 0.2, 0.3, 0.01, 0.02],\n",
              "                         &#x27;copy_X&#x27;: [True], &#x27;fit_intercept&#x27;: [True],\n",
              "                         &#x27;max_iter&#x27;: [1000, 2000, 5000, 7000, 10000, 13000,\n",
              "                                      15000],\n",
              "                         &#x27;normalize&#x27;: [&#x27;deprecated&#x27;], &#x27;positive&#x27;: [False],\n",
              "                         &#x27;random_state&#x27;: [0], &#x27;selection&#x27;: [&#x27;cyclic&#x27;]})</pre><b>In a Jupyter environment, please rerun this cell to show the HTML representation or trust the notebook. <br />On GitHub, the HTML representation is unable to render, please try loading this page with nbviewer.org.</b></div><div class=\"sk-container\" hidden><div class=\"sk-item sk-dashed-wrapped\"><div class=\"sk-label-container\"><div class=\"sk-label sk-toggleable\"><input class=\"sk-toggleable__control sk-hidden--visually\" id=\"sk-estimator-id-19\" type=\"checkbox\" ><label for=\"sk-estimator-id-19\" class=\"sk-toggleable__label sk-toggleable__label-arrow\">GridSearchCV</label><div class=\"sk-toggleable__content\"><pre>GridSearchCV(cv=5, estimator=Lasso(), n_jobs=-1,\n",
              "             param_grid={&#x27;alpha&#x27;: [1.0, 0.01, 0.2, 0.3, 0.01, 0.02],\n",
              "                         &#x27;copy_X&#x27;: [True], &#x27;fit_intercept&#x27;: [True],\n",
              "                         &#x27;max_iter&#x27;: [1000, 2000, 5000, 7000, 10000, 13000,\n",
              "                                      15000],\n",
              "                         &#x27;normalize&#x27;: [&#x27;deprecated&#x27;], &#x27;positive&#x27;: [False],\n",
              "                         &#x27;random_state&#x27;: [0], &#x27;selection&#x27;: [&#x27;cyclic&#x27;]})</pre></div></div></div><div class=\"sk-parallel\"><div class=\"sk-parallel-item\"><div class=\"sk-item\"><div class=\"sk-label-container\"><div class=\"sk-label sk-toggleable\"><input class=\"sk-toggleable__control sk-hidden--visually\" id=\"sk-estimator-id-20\" type=\"checkbox\" ><label for=\"sk-estimator-id-20\" class=\"sk-toggleable__label sk-toggleable__label-arrow\">estimator: Lasso</label><div class=\"sk-toggleable__content\"><pre>Lasso()</pre></div></div></div><div class=\"sk-serial\"><div class=\"sk-item\"><div class=\"sk-estimator sk-toggleable\"><input class=\"sk-toggleable__control sk-hidden--visually\" id=\"sk-estimator-id-21\" type=\"checkbox\" ><label for=\"sk-estimator-id-21\" class=\"sk-toggleable__label sk-toggleable__label-arrow\">Lasso</label><div class=\"sk-toggleable__content\"><pre>Lasso()</pre></div></div></div></div></div></div></div></div></div></div>"
            ],
            "text/plain": [
              "GridSearchCV(cv=5, estimator=Lasso(), n_jobs=-1,\n",
              "             param_grid={'alpha': [1.0, 0.01, 0.2, 0.3, 0.01, 0.02],\n",
              "                         'copy_X': [True], 'fit_intercept': [True],\n",
              "                         'max_iter': [1000, 2000, 5000, 7000, 10000, 13000,\n",
              "                                      15000],\n",
              "                         'normalize': ['deprecated'], 'positive': [False],\n",
              "                         'random_state': [0], 'selection': ['cyclic']})"
            ]
          },
          "execution_count": 56,
          "metadata": {},
          "output_type": "execute_result"
        }
      ],
      "source": [
        "grid_model_lasso.set_params()"
      ]
    },
    {
      "cell_type": "code",
      "execution_count": null,
      "id": "59dbde78",
      "metadata": {
        "id": "59dbde78",
        "outputId": "a198b437-6bd9-45a2-dd76-96a788b120d7"
      },
      "outputs": [
        {
          "data": {
            "text/plain": [
              "0.9204771495691686"
            ]
          },
          "execution_count": 57,
          "metadata": {},
          "output_type": "execute_result"
        }
      ],
      "source": [
        "grid_model_lasso.fit(xtrain,ytrain)\n",
        "grid_model_lasso.predict(xtest)\n",
        "grid_model_lasso.score(xtrain,ytrain)\n",
        "grid_model_lasso.score(xtest,ytest)"
      ]
    }
  ],
  "metadata": {
    "kernelspec": {
      "display_name": "Python 3 (ipykernel)",
      "language": "python",
      "name": "python3"
    },
    "language_info": {
      "codemirror_mode": {
        "name": "ipython",
        "version": 3
      },
      "file_extension": ".py",
      "mimetype": "text/x-python",
      "name": "python",
      "nbconvert_exporter": "python",
      "pygments_lexer": "ipython3",
      "version": "3.9.7"
    },
    "colab": {
      "provenance": []
    }
  },
  "nbformat": 4,
  "nbformat_minor": 5
}