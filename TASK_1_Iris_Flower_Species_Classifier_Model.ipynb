{
  "cells": [
    {
      "cell_type": "markdown",
      "id": "0bc915ed",
      "metadata": {
        "id": "0bc915ed"
      },
      "source": [
        "###                                                         IRIS Classifier Model"
      ]
    },
    {
      "cell_type": "markdown",
      "id": "163cf20c",
      "metadata": {
        "id": "163cf20c"
      },
      "source": [
        "#### Understand the problem statement"
      ]
    },
    {
      "cell_type": "markdown",
      "id": "d10fa240",
      "metadata": {
        "id": "d10fa240"
      },
      "source": [
        "   As a Data Scientist,We all of us have the indepth knowledge of Iris Dataset.The Data Set contains 3 classes of 50 instances of each,where each class refers to species of iris flower.The main objective of the problem statement is to build a classifier model by using advance data science techniques.Here I am trying play with different algorithms and its parameters to maximize the accuracy of model.\n",
        "\n"
      ]
    },
    {
      "cell_type": "markdown",
      "id": "e4a7050e",
      "metadata": {
        "id": "e4a7050e"
      },
      "source": [
        "#### Attribute Information:\n",
        "####    Id----> Id represents each record uniquely(int)\n",
        "####    SepalLengthCm---->Sepal lenght in centimeter(float)\n",
        "####   SepalWidthCm---->Sepal Width in centimeter(float)\n",
        "####   PetalLengthCm---->Peatal lenght in cm(float)\n",
        "####   PetalWidthCm---->Petal width in cm(float)\n",
        "####   Species----> Types of species of iris flower like setosa,versicolor,verginica(object)"
      ]
    },
    {
      "cell_type": "markdown",
      "id": "d86a2187",
      "metadata": {
        "id": "d86a2187"
      },
      "source": [
        "#### Load necessary liabraries to execute solution"
      ]
    },
    {
      "cell_type": "code",
      "execution_count": null,
      "id": "c2be7b9c",
      "metadata": {
        "id": "c2be7b9c"
      },
      "outputs": [],
      "source": [
        "# This Python 3 environment comes with many helpful analytics libraries installed\n",
        "# It is defined by the kaggle/python docker image: https://github.com/kaggle/docker-python\n",
        "# For example, here's several helpful packages to load in\n",
        "\n",
        "import numpy as np # linear algebra\n",
        "import pandas as pd # data processing, CSV file I/O (e.g. pd.read_csv)\n",
        "import seaborn as sns\n",
        "import matplotlib.pyplot as plt\n",
        "from sklearn.linear_model import LogisticRegression\n",
        "from sklearn.metrics import accuracy_score,confusion_matrix\n",
        "from sklearn.tree import DecisionTreeClassifier\n",
        "from sklearn.preprocessing import LabelEncoder\n",
        "from sklearn.model_selection import GridSearchCV\n",
        "from sklearn.ensemble import RandomForestClassifier\n",
        "import xgboost as xg\n",
        "from sklearn.model_selection import train_test_split"
      ]
    },
    {
      "cell_type": "code",
      "execution_count": null,
      "id": "8ab98108",
      "metadata": {
        "id": "8ab98108"
      },
      "outputs": [],
      "source": [
        "#load and make the copy of Iris dataset to keep track of changes.\n",
        "df = pd.read_csv('Iris.csv') #read comma seperated values\n",
        "df_copy=df.copy() #copy dataset"
      ]
    },
    {
      "cell_type": "code",
      "execution_count": null,
      "id": "74071d45",
      "metadata": {
        "id": "74071d45",
        "outputId": "afb74b37-afb6-4fd3-f2e8-1b124c8f1a38"
      },
      "outputs": [
        {
          "data": {
            "text/html": [
              "<div>\n",
              "<style scoped>\n",
              "    .dataframe tbody tr th:only-of-type {\n",
              "        vertical-align: middle;\n",
              "    }\n",
              "\n",
              "    .dataframe tbody tr th {\n",
              "        vertical-align: top;\n",
              "    }\n",
              "\n",
              "    .dataframe thead th {\n",
              "        text-align: right;\n",
              "    }\n",
              "</style>\n",
              "<table border=\"1\" class=\"dataframe\">\n",
              "  <thead>\n",
              "    <tr style=\"text-align: right;\">\n",
              "      <th></th>\n",
              "      <th>Id</th>\n",
              "      <th>SepalLengthCm</th>\n",
              "      <th>SepalWidthCm</th>\n",
              "      <th>PetalLengthCm</th>\n",
              "      <th>PetalWidthCm</th>\n",
              "      <th>Species</th>\n",
              "    </tr>\n",
              "  </thead>\n",
              "  <tbody>\n",
              "    <tr>\n",
              "      <th>0</th>\n",
              "      <td>1</td>\n",
              "      <td>5.1</td>\n",
              "      <td>3.5</td>\n",
              "      <td>1.4</td>\n",
              "      <td>0.2</td>\n",
              "      <td>Iris-setosa</td>\n",
              "    </tr>\n",
              "    <tr>\n",
              "      <th>1</th>\n",
              "      <td>2</td>\n",
              "      <td>4.9</td>\n",
              "      <td>3.0</td>\n",
              "      <td>1.4</td>\n",
              "      <td>0.2</td>\n",
              "      <td>Iris-setosa</td>\n",
              "    </tr>\n",
              "    <tr>\n",
              "      <th>2</th>\n",
              "      <td>3</td>\n",
              "      <td>4.7</td>\n",
              "      <td>3.2</td>\n",
              "      <td>1.3</td>\n",
              "      <td>0.2</td>\n",
              "      <td>Iris-setosa</td>\n",
              "    </tr>\n",
              "    <tr>\n",
              "      <th>3</th>\n",
              "      <td>4</td>\n",
              "      <td>4.6</td>\n",
              "      <td>3.1</td>\n",
              "      <td>1.5</td>\n",
              "      <td>0.2</td>\n",
              "      <td>Iris-setosa</td>\n",
              "    </tr>\n",
              "    <tr>\n",
              "      <th>4</th>\n",
              "      <td>5</td>\n",
              "      <td>5.0</td>\n",
              "      <td>3.6</td>\n",
              "      <td>1.4</td>\n",
              "      <td>0.2</td>\n",
              "      <td>Iris-setosa</td>\n",
              "    </tr>\n",
              "    <tr>\n",
              "      <th>...</th>\n",
              "      <td>...</td>\n",
              "      <td>...</td>\n",
              "      <td>...</td>\n",
              "      <td>...</td>\n",
              "      <td>...</td>\n",
              "      <td>...</td>\n",
              "    </tr>\n",
              "    <tr>\n",
              "      <th>145</th>\n",
              "      <td>146</td>\n",
              "      <td>6.7</td>\n",
              "      <td>3.0</td>\n",
              "      <td>5.2</td>\n",
              "      <td>2.3</td>\n",
              "      <td>Iris-virginica</td>\n",
              "    </tr>\n",
              "    <tr>\n",
              "      <th>146</th>\n",
              "      <td>147</td>\n",
              "      <td>6.3</td>\n",
              "      <td>2.5</td>\n",
              "      <td>5.0</td>\n",
              "      <td>1.9</td>\n",
              "      <td>Iris-virginica</td>\n",
              "    </tr>\n",
              "    <tr>\n",
              "      <th>147</th>\n",
              "      <td>148</td>\n",
              "      <td>6.5</td>\n",
              "      <td>3.0</td>\n",
              "      <td>5.2</td>\n",
              "      <td>2.0</td>\n",
              "      <td>Iris-virginica</td>\n",
              "    </tr>\n",
              "    <tr>\n",
              "      <th>148</th>\n",
              "      <td>149</td>\n",
              "      <td>6.2</td>\n",
              "      <td>3.4</td>\n",
              "      <td>5.4</td>\n",
              "      <td>2.3</td>\n",
              "      <td>Iris-virginica</td>\n",
              "    </tr>\n",
              "    <tr>\n",
              "      <th>149</th>\n",
              "      <td>150</td>\n",
              "      <td>5.9</td>\n",
              "      <td>3.0</td>\n",
              "      <td>5.1</td>\n",
              "      <td>1.8</td>\n",
              "      <td>Iris-virginica</td>\n",
              "    </tr>\n",
              "  </tbody>\n",
              "</table>\n",
              "<p>150 rows × 6 columns</p>\n",
              "</div>"
            ],
            "text/plain": [
              "      Id  SepalLengthCm  SepalWidthCm  PetalLengthCm  PetalWidthCm  \\\n",
              "0      1            5.1           3.5            1.4           0.2   \n",
              "1      2            4.9           3.0            1.4           0.2   \n",
              "2      3            4.7           3.2            1.3           0.2   \n",
              "3      4            4.6           3.1            1.5           0.2   \n",
              "4      5            5.0           3.6            1.4           0.2   \n",
              "..   ...            ...           ...            ...           ...   \n",
              "145  146            6.7           3.0            5.2           2.3   \n",
              "146  147            6.3           2.5            5.0           1.9   \n",
              "147  148            6.5           3.0            5.2           2.0   \n",
              "148  149            6.2           3.4            5.4           2.3   \n",
              "149  150            5.9           3.0            5.1           1.8   \n",
              "\n",
              "            Species  \n",
              "0       Iris-setosa  \n",
              "1       Iris-setosa  \n",
              "2       Iris-setosa  \n",
              "3       Iris-setosa  \n",
              "4       Iris-setosa  \n",
              "..              ...  \n",
              "145  Iris-virginica  \n",
              "146  Iris-virginica  \n",
              "147  Iris-virginica  \n",
              "148  Iris-virginica  \n",
              "149  Iris-virginica  \n",
              "\n",
              "[150 rows x 6 columns]"
            ]
          },
          "execution_count": 4,
          "metadata": {},
          "output_type": "execute_result"
        }
      ],
      "source": [
        "#fetch first five rows from dataset\n",
        "df_copy"
      ]
    },
    {
      "cell_type": "markdown",
      "id": "92fe2934",
      "metadata": {
        "id": "92fe2934"
      },
      "source": [
        "#### Check data properties and Data cleaning or preprocessing"
      ]
    },
    {
      "cell_type": "code",
      "execution_count": null,
      "id": "ea062cda",
      "metadata": {
        "id": "ea062cda"
      },
      "outputs": [],
      "source": [
        "#Remove unnecessary feat from dataset Id\n",
        "df_copy.drop(columns=['Id'],axis=0,inplace=True)"
      ]
    },
    {
      "cell_type": "code",
      "execution_count": null,
      "id": "725b343a",
      "metadata": {
        "id": "725b343a",
        "outputId": "49cfb0f8-1b0c-433d-a9ed-8031e9a6f1e5"
      },
      "outputs": [
        {
          "data": {
            "text/plain": [
              "SepalLengthCm    float64\n",
              "SepalWidthCm     float64\n",
              "PetalLengthCm    float64\n",
              "PetalWidthCm     float64\n",
              "Species           object\n",
              "dtype: object"
            ]
          },
          "execution_count": 6,
          "metadata": {},
          "output_type": "execute_result"
        }
      ],
      "source": [
        "#Check datatypes of each feat\n",
        "df_copy.dtypes"
      ]
    },
    {
      "cell_type": "code",
      "execution_count": null,
      "id": "41f842b2",
      "metadata": {
        "id": "41f842b2",
        "outputId": "be4bd478-885c-4c09-b2cf-1c99398a9407"
      },
      "outputs": [
        {
          "name": "stdout",
          "output_type": "stream",
          "text": [
            "Rows ----> 150\n",
            "Columns ----> 6\n"
          ]
        }
      ],
      "source": [
        "#check number of records and feilds present in dataset\n",
        "df_copy.shape\n",
        "print('Rows ---->',df.shape[0])\n",
        "print('Columns ---->',df.shape[1])"
      ]
    },
    {
      "cell_type": "code",
      "execution_count": null,
      "id": "784ce112",
      "metadata": {
        "id": "784ce112",
        "outputId": "ec118651-51f8-4778-aa8f-5d2f5e0e595c"
      },
      "outputs": [
        {
          "data": {
            "text/html": [
              "<div>\n",
              "<style scoped>\n",
              "    .dataframe tbody tr th:only-of-type {\n",
              "        vertical-align: middle;\n",
              "    }\n",
              "\n",
              "    .dataframe tbody tr th {\n",
              "        vertical-align: top;\n",
              "    }\n",
              "\n",
              "    .dataframe thead th {\n",
              "        text-align: right;\n",
              "    }\n",
              "</style>\n",
              "<table border=\"1\" class=\"dataframe\">\n",
              "  <thead>\n",
              "    <tr style=\"text-align: right;\">\n",
              "      <th></th>\n",
              "      <th>SepalLengthCm</th>\n",
              "      <th>SepalWidthCm</th>\n",
              "      <th>PetalLengthCm</th>\n",
              "      <th>PetalWidthCm</th>\n",
              "    </tr>\n",
              "  </thead>\n",
              "  <tbody>\n",
              "    <tr>\n",
              "      <th>count</th>\n",
              "      <td>150.000000</td>\n",
              "      <td>150.000000</td>\n",
              "      <td>150.000000</td>\n",
              "      <td>150.000000</td>\n",
              "    </tr>\n",
              "    <tr>\n",
              "      <th>mean</th>\n",
              "      <td>5.843333</td>\n",
              "      <td>3.054000</td>\n",
              "      <td>3.758667</td>\n",
              "      <td>1.198667</td>\n",
              "    </tr>\n",
              "    <tr>\n",
              "      <th>std</th>\n",
              "      <td>0.828066</td>\n",
              "      <td>0.433594</td>\n",
              "      <td>1.764420</td>\n",
              "      <td>0.763161</td>\n",
              "    </tr>\n",
              "    <tr>\n",
              "      <th>min</th>\n",
              "      <td>4.300000</td>\n",
              "      <td>2.000000</td>\n",
              "      <td>1.000000</td>\n",
              "      <td>0.100000</td>\n",
              "    </tr>\n",
              "    <tr>\n",
              "      <th>25%</th>\n",
              "      <td>5.100000</td>\n",
              "      <td>2.800000</td>\n",
              "      <td>1.600000</td>\n",
              "      <td>0.300000</td>\n",
              "    </tr>\n",
              "    <tr>\n",
              "      <th>50%</th>\n",
              "      <td>5.800000</td>\n",
              "      <td>3.000000</td>\n",
              "      <td>4.350000</td>\n",
              "      <td>1.300000</td>\n",
              "    </tr>\n",
              "    <tr>\n",
              "      <th>75%</th>\n",
              "      <td>6.400000</td>\n",
              "      <td>3.300000</td>\n",
              "      <td>5.100000</td>\n",
              "      <td>1.800000</td>\n",
              "    </tr>\n",
              "    <tr>\n",
              "      <th>max</th>\n",
              "      <td>7.900000</td>\n",
              "      <td>4.400000</td>\n",
              "      <td>6.900000</td>\n",
              "      <td>2.500000</td>\n",
              "    </tr>\n",
              "  </tbody>\n",
              "</table>\n",
              "</div>"
            ],
            "text/plain": [
              "       SepalLengthCm  SepalWidthCm  PetalLengthCm  PetalWidthCm\n",
              "count     150.000000    150.000000     150.000000    150.000000\n",
              "mean        5.843333      3.054000       3.758667      1.198667\n",
              "std         0.828066      0.433594       1.764420      0.763161\n",
              "min         4.300000      2.000000       1.000000      0.100000\n",
              "25%         5.100000      2.800000       1.600000      0.300000\n",
              "50%         5.800000      3.000000       4.350000      1.300000\n",
              "75%         6.400000      3.300000       5.100000      1.800000\n",
              "max         7.900000      4.400000       6.900000      2.500000"
            ]
          },
          "execution_count": 8,
          "metadata": {},
          "output_type": "execute_result"
        }
      ],
      "source": [
        "#see the descriptive statistics\n",
        "df_copy.describe()"
      ]
    },
    {
      "cell_type": "code",
      "execution_count": null,
      "id": "9c42be23",
      "metadata": {
        "id": "9c42be23",
        "outputId": "37c12c7c-96e8-4bab-fd37-34b891b81ed5"
      },
      "outputs": [
        {
          "data": {
            "text/plain": [
              "750"
            ]
          },
          "execution_count": 9,
          "metadata": {},
          "output_type": "execute_result"
        }
      ],
      "source": [
        "#check the space complexicity taken by data\n",
        "df_copy.size"
      ]
    },
    {
      "cell_type": "code",
      "execution_count": null,
      "id": "42efa738",
      "metadata": {
        "scrolled": true,
        "id": "42efa738",
        "outputId": "509a12d0-0b8f-4e2a-c65a-7adc34962d94"
      },
      "outputs": [
        {
          "name": "stdout",
          "output_type": "stream",
          "text": [
            "<class 'pandas.core.frame.DataFrame'>\n",
            "RangeIndex: 150 entries, 0 to 149\n",
            "Data columns (total 5 columns):\n",
            " #   Column         Non-Null Count  Dtype  \n",
            "---  ------         --------------  -----  \n",
            " 0   SepalLengthCm  150 non-null    float64\n",
            " 1   SepalWidthCm   150 non-null    float64\n",
            " 2   PetalLengthCm  150 non-null    float64\n",
            " 3   PetalWidthCm   150 non-null    float64\n",
            " 4   Species        150 non-null    object \n",
            "dtypes: float64(4), object(1)\n",
            "memory usage: 6.0+ KB\n"
          ]
        }
      ],
      "source": [
        "#checking if there is any inconsistency in the dataset\n",
        "#as we see there are no null values in the dataset, so the data can be processed\n",
        "df_copy.info()"
      ]
    },
    {
      "cell_type": "code",
      "execution_count": null,
      "id": "31270813",
      "metadata": {
        "scrolled": true,
        "id": "31270813",
        "outputId": "96edf8d3-8092-492b-bb89-1e64a24e938c"
      },
      "outputs": [
        {
          "data": {
            "text/html": [
              "<div>\n",
              "<style scoped>\n",
              "    .dataframe tbody tr th:only-of-type {\n",
              "        vertical-align: middle;\n",
              "    }\n",
              "\n",
              "    .dataframe tbody tr th {\n",
              "        vertical-align: top;\n",
              "    }\n",
              "\n",
              "    .dataframe thead th {\n",
              "        text-align: right;\n",
              "    }\n",
              "</style>\n",
              "<table border=\"1\" class=\"dataframe\">\n",
              "  <thead>\n",
              "    <tr style=\"text-align: right;\">\n",
              "      <th></th>\n",
              "      <th>1</th>\n",
              "    </tr>\n",
              "  </thead>\n",
              "  <tbody>\n",
              "    <tr>\n",
              "      <th>0</th>\n",
              "      <td>setosa</td>\n",
              "    </tr>\n",
              "    <tr>\n",
              "      <th>1</th>\n",
              "      <td>setosa</td>\n",
              "    </tr>\n",
              "    <tr>\n",
              "      <th>2</th>\n",
              "      <td>setosa</td>\n",
              "    </tr>\n",
              "    <tr>\n",
              "      <th>3</th>\n",
              "      <td>setosa</td>\n",
              "    </tr>\n",
              "    <tr>\n",
              "      <th>4</th>\n",
              "      <td>setosa</td>\n",
              "    </tr>\n",
              "    <tr>\n",
              "      <th>...</th>\n",
              "      <td>...</td>\n",
              "    </tr>\n",
              "    <tr>\n",
              "      <th>145</th>\n",
              "      <td>virginica</td>\n",
              "    </tr>\n",
              "    <tr>\n",
              "      <th>146</th>\n",
              "      <td>virginica</td>\n",
              "    </tr>\n",
              "    <tr>\n",
              "      <th>147</th>\n",
              "      <td>virginica</td>\n",
              "    </tr>\n",
              "    <tr>\n",
              "      <th>148</th>\n",
              "      <td>virginica</td>\n",
              "    </tr>\n",
              "    <tr>\n",
              "      <th>149</th>\n",
              "      <td>virginica</td>\n",
              "    </tr>\n",
              "  </tbody>\n",
              "</table>\n",
              "<p>150 rows × 1 columns</p>\n",
              "</div>"
            ],
            "text/plain": [
              "             1\n",
              "0       setosa\n",
              "1       setosa\n",
              "2       setosa\n",
              "3       setosa\n",
              "4       setosa\n",
              "..         ...\n",
              "145  virginica\n",
              "146  virginica\n",
              "147  virginica\n",
              "148  virginica\n",
              "149  virginica\n",
              "\n",
              "[150 rows x 1 columns]"
            ]
          },
          "execution_count": 11,
          "metadata": {},
          "output_type": "execute_result"
        }
      ],
      "source": [
        "df_copy.columns = ['sl','sw','pl','pw','species']\n",
        "df_split_iris=df_copy.species.str.split('-',n=-1,expand=True) #Remove prefix 'Iris-' from species col\n",
        "df_split_iris.drop(columns=0,axis=1,inplace=True)#Drop 'Iris-' col\n",
        "df_split_iris"
      ]
    },
    {
      "cell_type": "code",
      "execution_count": null,
      "id": "6c461a4e",
      "metadata": {
        "scrolled": true,
        "id": "6c461a4e",
        "outputId": "402c8987-8824-4372-f3d0-ec3e227ed393"
      },
      "outputs": [
        {
          "data": {
            "text/html": [
              "<div>\n",
              "<style scoped>\n",
              "    .dataframe tbody tr th:only-of-type {\n",
              "        vertical-align: middle;\n",
              "    }\n",
              "\n",
              "    .dataframe tbody tr th {\n",
              "        vertical-align: top;\n",
              "    }\n",
              "\n",
              "    .dataframe thead th {\n",
              "        text-align: right;\n",
              "    }\n",
              "</style>\n",
              "<table border=\"1\" class=\"dataframe\">\n",
              "  <thead>\n",
              "    <tr style=\"text-align: right;\">\n",
              "      <th></th>\n",
              "      <th>sl</th>\n",
              "      <th>sw</th>\n",
              "      <th>pl</th>\n",
              "      <th>pw</th>\n",
              "      <th>species</th>\n",
              "      <th>1</th>\n",
              "    </tr>\n",
              "  </thead>\n",
              "  <tbody>\n",
              "    <tr>\n",
              "      <th>0</th>\n",
              "      <td>5.1</td>\n",
              "      <td>3.5</td>\n",
              "      <td>1.4</td>\n",
              "      <td>0.2</td>\n",
              "      <td>Iris-setosa</td>\n",
              "      <td>setosa</td>\n",
              "    </tr>\n",
              "    <tr>\n",
              "      <th>1</th>\n",
              "      <td>4.9</td>\n",
              "      <td>3.0</td>\n",
              "      <td>1.4</td>\n",
              "      <td>0.2</td>\n",
              "      <td>Iris-setosa</td>\n",
              "      <td>setosa</td>\n",
              "    </tr>\n",
              "    <tr>\n",
              "      <th>2</th>\n",
              "      <td>4.7</td>\n",
              "      <td>3.2</td>\n",
              "      <td>1.3</td>\n",
              "      <td>0.2</td>\n",
              "      <td>Iris-setosa</td>\n",
              "      <td>setosa</td>\n",
              "    </tr>\n",
              "    <tr>\n",
              "      <th>3</th>\n",
              "      <td>4.6</td>\n",
              "      <td>3.1</td>\n",
              "      <td>1.5</td>\n",
              "      <td>0.2</td>\n",
              "      <td>Iris-setosa</td>\n",
              "      <td>setosa</td>\n",
              "    </tr>\n",
              "    <tr>\n",
              "      <th>4</th>\n",
              "      <td>5.0</td>\n",
              "      <td>3.6</td>\n",
              "      <td>1.4</td>\n",
              "      <td>0.2</td>\n",
              "      <td>Iris-setosa</td>\n",
              "      <td>setosa</td>\n",
              "    </tr>\n",
              "    <tr>\n",
              "      <th>...</th>\n",
              "      <td>...</td>\n",
              "      <td>...</td>\n",
              "      <td>...</td>\n",
              "      <td>...</td>\n",
              "      <td>...</td>\n",
              "      <td>...</td>\n",
              "    </tr>\n",
              "    <tr>\n",
              "      <th>145</th>\n",
              "      <td>6.7</td>\n",
              "      <td>3.0</td>\n",
              "      <td>5.2</td>\n",
              "      <td>2.3</td>\n",
              "      <td>Iris-virginica</td>\n",
              "      <td>virginica</td>\n",
              "    </tr>\n",
              "    <tr>\n",
              "      <th>146</th>\n",
              "      <td>6.3</td>\n",
              "      <td>2.5</td>\n",
              "      <td>5.0</td>\n",
              "      <td>1.9</td>\n",
              "      <td>Iris-virginica</td>\n",
              "      <td>virginica</td>\n",
              "    </tr>\n",
              "    <tr>\n",
              "      <th>147</th>\n",
              "      <td>6.5</td>\n",
              "      <td>3.0</td>\n",
              "      <td>5.2</td>\n",
              "      <td>2.0</td>\n",
              "      <td>Iris-virginica</td>\n",
              "      <td>virginica</td>\n",
              "    </tr>\n",
              "    <tr>\n",
              "      <th>148</th>\n",
              "      <td>6.2</td>\n",
              "      <td>3.4</td>\n",
              "      <td>5.4</td>\n",
              "      <td>2.3</td>\n",
              "      <td>Iris-virginica</td>\n",
              "      <td>virginica</td>\n",
              "    </tr>\n",
              "    <tr>\n",
              "      <th>149</th>\n",
              "      <td>5.9</td>\n",
              "      <td>3.0</td>\n",
              "      <td>5.1</td>\n",
              "      <td>1.8</td>\n",
              "      <td>Iris-virginica</td>\n",
              "      <td>virginica</td>\n",
              "    </tr>\n",
              "  </tbody>\n",
              "</table>\n",
              "<p>150 rows × 6 columns</p>\n",
              "</div>"
            ],
            "text/plain": [
              "      sl   sw   pl   pw         species          1\n",
              "0    5.1  3.5  1.4  0.2     Iris-setosa     setosa\n",
              "1    4.9  3.0  1.4  0.2     Iris-setosa     setosa\n",
              "2    4.7  3.2  1.3  0.2     Iris-setosa     setosa\n",
              "3    4.6  3.1  1.5  0.2     Iris-setosa     setosa\n",
              "4    5.0  3.6  1.4  0.2     Iris-setosa     setosa\n",
              "..   ...  ...  ...  ...             ...        ...\n",
              "145  6.7  3.0  5.2  2.3  Iris-virginica  virginica\n",
              "146  6.3  2.5  5.0  1.9  Iris-virginica  virginica\n",
              "147  6.5  3.0  5.2  2.0  Iris-virginica  virginica\n",
              "148  6.2  3.4  5.4  2.3  Iris-virginica  virginica\n",
              "149  5.9  3.0  5.1  1.8  Iris-virginica  virginica\n",
              "\n",
              "[150 rows x 6 columns]"
            ]
          },
          "execution_count": 12,
          "metadata": {},
          "output_type": "execute_result"
        }
      ],
      "source": [
        "df3_full=df_copy.join(df_split_iris)\n",
        "df3_full"
      ]
    },
    {
      "cell_type": "markdown",
      "id": "9b4bc531",
      "metadata": {
        "id": "9b4bc531"
      },
      "source": [
        "###### check for balanced or unbalanced?"
      ]
    },
    {
      "cell_type": "code",
      "execution_count": null,
      "id": "6ab107ef",
      "metadata": {
        "id": "6ab107ef",
        "outputId": "3faa702d-63ce-46cc-fc6e-e34354f5d365"
      },
      "outputs": [
        {
          "data": {
            "text/plain": [
              "setosa        50\n",
              "versicolor    50\n",
              "virginica     50\n",
              "Name: species1, dtype: int64"
            ]
          },
          "execution_count": 21,
          "metadata": {},
          "output_type": "execute_result"
        }
      ],
      "source": [
        "#categoriwise frequency of data\n",
        "df3_full.species1.value_counts()"
      ]
    },
    {
      "cell_type": "markdown",
      "id": "2b9066f2",
      "metadata": {
        "id": "2b9066f2"
      },
      "source": [
        "#### Data Visualisation and gain meaningfull insights from data"
      ]
    },
    {
      "cell_type": "code",
      "execution_count": null,
      "id": "85f53a97",
      "metadata": {
        "id": "85f53a97",
        "outputId": "3d78d24f-94f2-4c30-ad51-2b6197de28de"
      },
      "outputs": [
        {
          "data": {
            "text/plain": [
              "<AxesSubplot:xlabel='species1', ylabel='sl'>"
            ]
          },
          "execution_count": 113,
          "metadata": {},
          "output_type": "execute_result"
        },
        {
          "data": {
            "image/png": "[encoded data removed]",
            "text/plain": [
              "<Figure size 432x288 with 1 Axes>"
            ]
          },
          "metadata": {
            "needs_background": "light"
          },
          "output_type": "display_data"
        }
      ],
      "source": [
        "sns.boxplot(x=df3_full.species1,y=df3_full.sl,data=df3_full,hue=df3_full.species1,hue_order=[0,1,2])"
      ]
    },
    {
      "cell_type": "code",
      "execution_count": null,
      "id": "23ad5667",
      "metadata": {
        "id": "23ad5667",
        "outputId": "bdd8ab35-996a-4830-8abf-489b98801e2c"
      },
      "outputs": [
        {
          "data": {
            "text/plain": [
              "<AxesSubplot:xlabel='species1', ylabel='sw'>"
            ]
          },
          "execution_count": 114,
          "metadata": {},
          "output_type": "execute_result"
        },
        {
          "data": {
            "image/png": "[encoded data removed]",
            "text/plain": [
              "<Figure size 432x288 with 1 Axes>"
            ]
          },
          "metadata": {
            "needs_background": "light"
          },
          "output_type": "display_data"
        }
      ],
      "source": [
        "sns.boxplot(x=df3_full.species1,y=df3_full.sw,data=df3_full,hue=df3_full.species1,hue_order=[0,1,2])\n"
      ]
    },
    {
      "cell_type": "markdown",
      "id": "90e4756e",
      "metadata": {
        "id": "90e4756e"
      },
      "source": [
        "The above graph shows relationship between the sepal length and width.It also shows that species setosa having lesser petal lenght as compared to versicolor and verginica.  \n",
        "Now we will check relationship between the petal length and width."
      ]
    },
    {
      "cell_type": "code",
      "execution_count": null,
      "id": "58d3853e",
      "metadata": {
        "id": "58d3853e",
        "outputId": "fb0b4d6c-f5cd-4032-fe09-f8a1979bdd9f"
      },
      "outputs": [
        {
          "data": {
            "text/plain": [
              "<AxesSubplot:xlabel='pl', ylabel='pw'>"
            ]
          },
          "execution_count": 27,
          "metadata": {},
          "output_type": "execute_result"
        },
        {
          "data": {
            "image/png": "[encoded data removed]",
            "text/plain": [
              "<Figure size 432x288 with 1 Axes>"
            ]
          },
          "metadata": {
            "needs_background": "light"
          },
          "output_type": "display_data"
        }
      ],
      "source": [
        "sns.scatterplot(x=df3_full.pl,y=df3_full.pw,hue=df3_full.species1)"
      ]
    },
    {
      "cell_type": "markdown",
      "id": "4454996b",
      "metadata": {
        "id": "4454996b"
      },
      "source": [
        "As we can see that the Petal Features are giving a better cluster division compared to the Sepal features. This is an indication that the Petals can help in better and accurate Predictions over the Sepal. We will check that later."
      ]
    },
    {
      "cell_type": "code",
      "execution_count": null,
      "id": "3a9a19ef",
      "metadata": {
        "id": "3a9a19ef",
        "outputId": "076a1c9b-1e36-4555-8e09-ebaac2882a9c"
      },
      "outputs": [
        {
          "data": {
            "text/plain": [
              "<AxesSubplot:xlabel='sl', ylabel='pw'>"
            ]
          },
          "execution_count": 28,
          "metadata": {},
          "output_type": "execute_result"
        },
        {
          "data": {
            "image/png": "[encoded data removed]",
            "text/plain": [
              "<Figure size 432x288 with 1 Axes>"
            ]
          },
          "metadata": {
            "needs_background": "light"
          },
          "output_type": "display_data"
        }
      ],
      "source": [
        "sns.scatterplot(x=df3_full.sl,y=df3_full.pw,hue=df3_full.species1)"
      ]
    },
    {
      "cell_type": "code",
      "execution_count": null,
      "id": "b7836fb8",
      "metadata": {
        "id": "b7836fb8",
        "outputId": "d99c3176-829a-4850-fb4a-8089848f847f"
      },
      "outputs": [
        {
          "data": {
            "text/plain": [
              "<AxesSubplot:xlabel='sw', ylabel='pl'>"
            ]
          },
          "execution_count": 29,
          "metadata": {},
          "output_type": "execute_result"
        },
        {
          "data": {
            "image/png": "[encoded data removed]",
            "text/plain": [
              "<Figure size 432x288 with 1 Axes>"
            ]
          },
          "metadata": {
            "needs_background": "light"
          },
          "output_type": "display_data"
        }
      ],
      "source": [
        "sns.scatterplot(x=df3_full.sw,y=df3_full.pl,hue=df3_full.species1)"
      ]
    },
    {
      "cell_type": "markdown",
      "id": "c4d05c02",
      "metadata": {
        "id": "c4d05c02"
      },
      "source": [
        "From both above scatter plots we can clearly see that sw and pl data distribution and not represents specific pattern"
      ]
    },
    {
      "cell_type": "code",
      "execution_count": null,
      "id": "5040bd55",
      "metadata": {
        "id": "5040bd55",
        "outputId": "a6c40703-4ee1-4d2f-ea61-5f893af58cc5"
      },
      "outputs": [
        {
          "data": {
            "text/plain": [
              "Index(['sl', 'sw', 'pl', 'pw', 'species1'], dtype='object')"
            ]
          },
          "execution_count": 30,
          "metadata": {},
          "output_type": "execute_result"
        }
      ],
      "source": [
        "df3_full.columns # check column names"
      ]
    },
    {
      "cell_type": "code",
      "execution_count": null,
      "id": "5e0624c2",
      "metadata": {
        "id": "5e0624c2",
        "outputId": "51ac191a-e1d6-42f6-d630-ac31b8ad1e6f"
      },
      "outputs": [
        {
          "name": "stderr",
          "output_type": "stream",
          "text": [
            "C:\\ProgramData\\Anaconda3\\lib\\site-packages\\seaborn\\distributions.py:2619: FutureWarning: `distplot` is a deprecated function and will be removed in a future version. Please adapt your code to use either `displot` (a figure-level function with similar flexibility) or `histplot` (an axes-level function for histograms).\n",
            "  warnings.warn(msg, FutureWarning)\n"
          ]
        },
        {
          "data": {
            "text/plain": [
              "<AxesSubplot:xlabel='pl', ylabel='Density'>"
            ]
          },
          "execution_count": 31,
          "metadata": {},
          "output_type": "execute_result"
        },
        {
          "data": {
            "image/png": "[encoded data removed]",
            "text/plain": [
              "<Figure size 432x288 with 1 Axes>"
            ]
          },
          "metadata": {
            "needs_background": "light"
          },
          "output_type": "display_data"
        }
      ],
      "source": [
        "sns.distplot(df3_full.pl)"
      ]
    },
    {
      "cell_type": "code",
      "execution_count": null,
      "id": "560cfae9",
      "metadata": {
        "id": "560cfae9",
        "outputId": "a3db19b2-1192-4269-b0fa-165a9539fd14"
      },
      "outputs": [
        {
          "name": "stderr",
          "output_type": "stream",
          "text": [
            "C:\\ProgramData\\Anaconda3\\lib\\site-packages\\seaborn\\distributions.py:2619: FutureWarning: `distplot` is a deprecated function and will be removed in a future version. Please adapt your code to use either `displot` (a figure-level function with similar flexibility) or `histplot` (an axes-level function for histograms).\n",
            "  warnings.warn(msg, FutureWarning)\n"
          ]
        },
        {
          "data": {
            "text/plain": [
              "<AxesSubplot:xlabel='sl', ylabel='Density'>"
            ]
          },
          "execution_count": 32,
          "metadata": {},
          "output_type": "execute_result"
        },
        {
          "data": {
            "image/png": "[encoded data removed]",
            "text/plain": [
              "<Figure size 432x288 with 1 Axes>"
            ]
          },
          "metadata": {
            "needs_background": "light"
          },
          "output_type": "display_data"
        }
      ],
      "source": [
        "sns.distplot(df3_full.sl)"
      ]
    },
    {
      "cell_type": "code",
      "execution_count": null,
      "id": "67202f3c",
      "metadata": {
        "id": "67202f3c",
        "outputId": "e179193f-7653-4461-e762-571b6150805a"
      },
      "outputs": [
        {
          "name": "stderr",
          "output_type": "stream",
          "text": [
            "C:\\ProgramData\\Anaconda3\\lib\\site-packages\\seaborn\\distributions.py:2619: FutureWarning: `distplot` is a deprecated function and will be removed in a future version. Please adapt your code to use either `displot` (a figure-level function with similar flexibility) or `histplot` (an axes-level function for histograms).\n",
            "  warnings.warn(msg, FutureWarning)\n"
          ]
        },
        {
          "data": {
            "text/plain": [
              "<AxesSubplot:xlabel='sw', ylabel='Density'>"
            ]
          },
          "execution_count": 33,
          "metadata": {},
          "output_type": "execute_result"
        },
        {
          "data": {
            "image/png": "[encoded data removed]",
            "text/plain": [
              "<Figure size 432x288 with 1 Axes>"
            ]
          },
          "metadata": {
            "needs_background": "light"
          },
          "output_type": "display_data"
        }
      ],
      "source": [
        "sns.distplot(df3_full.sw)"
      ]
    },
    {
      "cell_type": "markdown",
      "id": "e1c9e0f7",
      "metadata": {
        "id": "e1c9e0f7"
      },
      "source": [
        "Observation--->\n",
        "\n",
        "The Sepal Width and Length are not correlated The Petal Width and Length are highly correlated\n",
        "\n",
        "We will use all the features for training the algorithm and check the accuracy.\n",
        "\n",
        "Then we will use 1 Petal Feature and 1 Sepal Feature to check the accuracy of the algorithm as we are using only 2 features that are not correlated. Thus we can have a variance in the dataset which may help in better accuracy. We will check it later."
      ]
    },
    {
      "cell_type": "markdown",
      "id": "6716b3cc",
      "metadata": {
        "id": "6716b3cc"
      },
      "source": [
        "#### convert categorical features into numerical feature"
      ]
    },
    {
      "cell_type": "code",
      "execution_count": null,
      "id": "79e29657",
      "metadata": {
        "id": "79e29657",
        "outputId": "05a2737d-f1f7-4bdb-8dc1-ca7177536026"
      },
      "outputs": [
        {
          "data": {
            "text/html": [
              "<div>\n",
              "<style scoped>\n",
              "    .dataframe tbody tr th:only-of-type {\n",
              "        vertical-align: middle;\n",
              "    }\n",
              "\n",
              "    .dataframe tbody tr th {\n",
              "        vertical-align: top;\n",
              "    }\n",
              "\n",
              "    .dataframe thead th {\n",
              "        text-align: right;\n",
              "    }\n",
              "</style>\n",
              "<table border=\"1\" class=\"dataframe\">\n",
              "  <thead>\n",
              "    <tr style=\"text-align: right;\">\n",
              "      <th></th>\n",
              "      <th>sl</th>\n",
              "      <th>sw</th>\n",
              "      <th>pl</th>\n",
              "      <th>pw</th>\n",
              "      <th>species1</th>\n",
              "    </tr>\n",
              "  </thead>\n",
              "  <tbody>\n",
              "    <tr>\n",
              "      <th>0</th>\n",
              "      <td>5.1</td>\n",
              "      <td>3.5</td>\n",
              "      <td>1.4</td>\n",
              "      <td>0.2</td>\n",
              "      <td>0</td>\n",
              "    </tr>\n",
              "    <tr>\n",
              "      <th>1</th>\n",
              "      <td>4.9</td>\n",
              "      <td>3.0</td>\n",
              "      <td>1.4</td>\n",
              "      <td>0.2</td>\n",
              "      <td>0</td>\n",
              "    </tr>\n",
              "    <tr>\n",
              "      <th>2</th>\n",
              "      <td>4.7</td>\n",
              "      <td>3.2</td>\n",
              "      <td>1.3</td>\n",
              "      <td>0.2</td>\n",
              "      <td>0</td>\n",
              "    </tr>\n",
              "    <tr>\n",
              "      <th>3</th>\n",
              "      <td>4.6</td>\n",
              "      <td>3.1</td>\n",
              "      <td>1.5</td>\n",
              "      <td>0.2</td>\n",
              "      <td>0</td>\n",
              "    </tr>\n",
              "    <tr>\n",
              "      <th>4</th>\n",
              "      <td>5.0</td>\n",
              "      <td>3.6</td>\n",
              "      <td>1.4</td>\n",
              "      <td>0.2</td>\n",
              "      <td>0</td>\n",
              "    </tr>\n",
              "    <tr>\n",
              "      <th>...</th>\n",
              "      <td>...</td>\n",
              "      <td>...</td>\n",
              "      <td>...</td>\n",
              "      <td>...</td>\n",
              "      <td>...</td>\n",
              "    </tr>\n",
              "    <tr>\n",
              "      <th>145</th>\n",
              "      <td>6.7</td>\n",
              "      <td>3.0</td>\n",
              "      <td>5.2</td>\n",
              "      <td>2.3</td>\n",
              "      <td>2</td>\n",
              "    </tr>\n",
              "    <tr>\n",
              "      <th>146</th>\n",
              "      <td>6.3</td>\n",
              "      <td>2.5</td>\n",
              "      <td>5.0</td>\n",
              "      <td>1.9</td>\n",
              "      <td>2</td>\n",
              "    </tr>\n",
              "    <tr>\n",
              "      <th>147</th>\n",
              "      <td>6.5</td>\n",
              "      <td>3.0</td>\n",
              "      <td>5.2</td>\n",
              "      <td>2.0</td>\n",
              "      <td>2</td>\n",
              "    </tr>\n",
              "    <tr>\n",
              "      <th>148</th>\n",
              "      <td>6.2</td>\n",
              "      <td>3.4</td>\n",
              "      <td>5.4</td>\n",
              "      <td>2.3</td>\n",
              "      <td>2</td>\n",
              "    </tr>\n",
              "    <tr>\n",
              "      <th>149</th>\n",
              "      <td>5.9</td>\n",
              "      <td>3.0</td>\n",
              "      <td>5.1</td>\n",
              "      <td>1.8</td>\n",
              "      <td>2</td>\n",
              "    </tr>\n",
              "  </tbody>\n",
              "</table>\n",
              "<p>150 rows × 5 columns</p>\n",
              "</div>"
            ],
            "text/plain": [
              "      sl   sw   pl   pw  species1\n",
              "0    5.1  3.5  1.4  0.2         0\n",
              "1    4.9  3.0  1.4  0.2         0\n",
              "2    4.7  3.2  1.3  0.2         0\n",
              "3    4.6  3.1  1.5  0.2         0\n",
              "4    5.0  3.6  1.4  0.2         0\n",
              "..   ...  ...  ...  ...       ...\n",
              "145  6.7  3.0  5.2  2.3         2\n",
              "146  6.3  2.5  5.0  1.9         2\n",
              "147  6.5  3.0  5.2  2.0         2\n",
              "148  6.2  3.4  5.4  2.3         2\n",
              "149  5.9  3.0  5.1  1.8         2\n",
              "\n",
              "[150 rows x 5 columns]"
            ]
          },
          "execution_count": 37,
          "metadata": {},
          "output_type": "execute_result"
        }
      ],
      "source": [
        "from sklearn.preprocessing import LabelEncoder\n",
        "\n",
        "# Creating a instance of label Encoder.\n",
        "le = LabelEncoder()\n",
        "\n",
        "# Using .fit_transform function to fit label\n",
        "# encoder and return encoded label\n",
        "le.fit_transform(df3_full['species1'])\n",
        "df3_full['species1']=le.fit_transform(df3_full['species1'])\n",
        "df3_full"
      ]
    },
    {
      "cell_type": "code",
      "execution_count": null,
      "id": "11f4a8dd",
      "metadata": {
        "scrolled": true,
        "id": "11f4a8dd",
        "outputId": "663866f3-9f14-417e-d5e1-b0c7811bf3ed"
      },
      "outputs": [
        {
          "data": {
            "text/html": [
              "<div>\n",
              "<style scoped>\n",
              "    .dataframe tbody tr th:only-of-type {\n",
              "        vertical-align: middle;\n",
              "    }\n",
              "\n",
              "    .dataframe tbody tr th {\n",
              "        vertical-align: top;\n",
              "    }\n",
              "\n",
              "    .dataframe thead th {\n",
              "        text-align: right;\n",
              "    }\n",
              "</style>\n",
              "<table border=\"1\" class=\"dataframe\">\n",
              "  <thead>\n",
              "    <tr style=\"text-align: right;\">\n",
              "      <th></th>\n",
              "      <th>sl</th>\n",
              "      <th>sw</th>\n",
              "      <th>pl</th>\n",
              "      <th>pw</th>\n",
              "      <th>species1</th>\n",
              "    </tr>\n",
              "  </thead>\n",
              "  <tbody>\n",
              "    <tr>\n",
              "      <th>0</th>\n",
              "      <td>5.1</td>\n",
              "      <td>3.5</td>\n",
              "      <td>1.4</td>\n",
              "      <td>0.2</td>\n",
              "      <td>0</td>\n",
              "    </tr>\n",
              "    <tr>\n",
              "      <th>1</th>\n",
              "      <td>4.9</td>\n",
              "      <td>3.0</td>\n",
              "      <td>1.4</td>\n",
              "      <td>0.2</td>\n",
              "      <td>0</td>\n",
              "    </tr>\n",
              "    <tr>\n",
              "      <th>2</th>\n",
              "      <td>4.7</td>\n",
              "      <td>3.2</td>\n",
              "      <td>1.3</td>\n",
              "      <td>0.2</td>\n",
              "      <td>0</td>\n",
              "    </tr>\n",
              "    <tr>\n",
              "      <th>3</th>\n",
              "      <td>4.6</td>\n",
              "      <td>3.1</td>\n",
              "      <td>1.5</td>\n",
              "      <td>0.2</td>\n",
              "      <td>0</td>\n",
              "    </tr>\n",
              "    <tr>\n",
              "      <th>4</th>\n",
              "      <td>5.0</td>\n",
              "      <td>3.6</td>\n",
              "      <td>1.4</td>\n",
              "      <td>0.2</td>\n",
              "      <td>0</td>\n",
              "    </tr>\n",
              "    <tr>\n",
              "      <th>...</th>\n",
              "      <td>...</td>\n",
              "      <td>...</td>\n",
              "      <td>...</td>\n",
              "      <td>...</td>\n",
              "      <td>...</td>\n",
              "    </tr>\n",
              "    <tr>\n",
              "      <th>145</th>\n",
              "      <td>6.7</td>\n",
              "      <td>3.0</td>\n",
              "      <td>5.2</td>\n",
              "      <td>2.3</td>\n",
              "      <td>2</td>\n",
              "    </tr>\n",
              "    <tr>\n",
              "      <th>146</th>\n",
              "      <td>6.3</td>\n",
              "      <td>2.5</td>\n",
              "      <td>5.0</td>\n",
              "      <td>1.9</td>\n",
              "      <td>2</td>\n",
              "    </tr>\n",
              "    <tr>\n",
              "      <th>147</th>\n",
              "      <td>6.5</td>\n",
              "      <td>3.0</td>\n",
              "      <td>5.2</td>\n",
              "      <td>2.0</td>\n",
              "      <td>2</td>\n",
              "    </tr>\n",
              "    <tr>\n",
              "      <th>148</th>\n",
              "      <td>6.2</td>\n",
              "      <td>3.4</td>\n",
              "      <td>5.4</td>\n",
              "      <td>2.3</td>\n",
              "      <td>2</td>\n",
              "    </tr>\n",
              "    <tr>\n",
              "      <th>149</th>\n",
              "      <td>5.9</td>\n",
              "      <td>3.0</td>\n",
              "      <td>5.1</td>\n",
              "      <td>1.8</td>\n",
              "      <td>2</td>\n",
              "    </tr>\n",
              "  </tbody>\n",
              "</table>\n",
              "<p>150 rows × 5 columns</p>\n",
              "</div>"
            ],
            "text/plain": [
              "      sl   sw   pl   pw  species1\n",
              "0    5.1  3.5  1.4  0.2         0\n",
              "1    4.9  3.0  1.4  0.2         0\n",
              "2    4.7  3.2  1.3  0.2         0\n",
              "3    4.6  3.1  1.5  0.2         0\n",
              "4    5.0  3.6  1.4  0.2         0\n",
              "..   ...  ...  ...  ...       ...\n",
              "145  6.7  3.0  5.2  2.3         2\n",
              "146  6.3  2.5  5.0  1.9         2\n",
              "147  6.5  3.0  5.2  2.0         2\n",
              "148  6.2  3.4  5.4  2.3         2\n",
              "149  5.9  3.0  5.1  1.8         2\n",
              "\n",
              "[150 rows x 5 columns]"
            ]
          },
          "execution_count": 38,
          "metadata": {},
          "output_type": "execute_result"
        }
      ],
      "source": [
        "df3_full"
      ]
    },
    {
      "cell_type": "markdown",
      "id": "59b0da22",
      "metadata": {
        "id": "59b0da22"
      },
      "source": [
        "#### Train model with  classification techniques"
      ]
    },
    {
      "cell_type": "code",
      "execution_count": null,
      "id": "c20419fd",
      "metadata": {
        "id": "c20419fd",
        "outputId": "83b58578-3300-4bfa-f556-1c3a19aed839"
      },
      "outputs": [
        {
          "data": {
            "text/plain": [
              "array([0, 1, 1, 2, 1, 1, 2, 0, 2, 0, 2, 1, 1, 0, 0, 2, 0, 1, 2, 1, 1, 2,\n",
              "       2, 0, 1, 1, 1, 0, 2, 1, 1, 1, 0, 0, 0, 1, 1, 0, 1, 2, 1, 2, 0, 1,\n",
              "       1])"
            ]
          },
          "execution_count": 47,
          "metadata": {},
          "output_type": "execute_result"
        }
      ],
      "source": [
        "from sklearn.linear_model import LogisticRegression\n",
        "from sklearn.metrics import accuracy_score,confusion_matrix\n",
        "logi = LogisticRegression()\n",
        "logi.fit(xtrain,ytrain)\n",
        "logi_prediction = logi.predict(xtest)\n",
        "logi_prediction"
      ]
    },
    {
      "cell_type": "code",
      "execution_count": null,
      "id": "f9bc2f70",
      "metadata": {
        "id": "f9bc2f70",
        "outputId": "714e6a50-5143-40e2-94ed-78166bb53018"
      },
      "outputs": [
        {
          "name": "stdout",
          "output_type": "stream",
          "text": [
            "97.14285714285714\n",
            "93.33333333333333\n"
          ]
        }
      ],
      "source": [
        "print(logi.score(xtrain,ytrain)*100)\n",
        "print(logi.score(xtest,ytest)*100)"
      ]
    },
    {
      "cell_type": "code",
      "execution_count": null,
      "id": "d6aa9cde",
      "metadata": {
        "id": "d6aa9cde",
        "outputId": "0ceed55e-2764-4dd6-a4fb-a2cdeead0db9"
      },
      "outputs": [
        {
          "data": {
            "text/plain": [
              "93.33333333333333"
            ]
          },
          "execution_count": 49,
          "metadata": {},
          "output_type": "execute_result"
        }
      ],
      "source": [
        "accuracy_score(ytest,logi_prediction)*100"
      ]
    },
    {
      "cell_type": "code",
      "execution_count": null,
      "id": "a060ef61",
      "metadata": {
        "id": "a060ef61"
      },
      "outputs": [],
      "source": [
        "from sklearn.model_selection import GridSearchCV"
      ]
    },
    {
      "cell_type": "code",
      "execution_count": null,
      "id": "a25b4834",
      "metadata": {
        "id": "a25b4834"
      },
      "outputs": [],
      "source": [
        "para = {'penalty':['l1','l2','elasticnet'],\n",
        "        'C':[1,2,3,4,5,6,10,20,30,40,50,1.5,2.3,1.6,1.9],\n",
        "        'max_iter':[100,200,300,50,70,60,50]\n",
        "        }"
      ]
    },
    {
      "cell_type": "code",
      "execution_count": null,
      "id": "46c11101",
      "metadata": {
        "id": "46c11101",
        "outputId": "b78119ca-fc4c-4946-9382-f84e785261c2"
      },
      "outputs": [
        {
          "data": {
            "text/plain": [
              "array([0, 1, 1, 2, 1, 1, 2, 0, 2, 0, 2, 1, 1, 0, 0, 2, 0, 1, 2, 1, 1, 2,\n",
              "       2, 0, 1, 1, 1, 0, 2, 1, 1, 1, 0, 0, 0, 1, 1, 0, 1, 2, 1, 1, 0, 1,\n",
              "       1])"
            ]
          },
          "execution_count": 57,
          "metadata": {},
          "output_type": "execute_result"
        }
      ],
      "source": [
        "prediction = classifier_logistic.predict(xtest)\n",
        "prediction"
      ]
    },
    {
      "cell_type": "code",
      "execution_count": null,
      "id": "5cbd79d8",
      "metadata": {
        "id": "5cbd79d8",
        "outputId": "b73d94c0-cd37-4c4d-b690-2a9e74688ae5"
      },
      "outputs": [
        {
          "data": {
            "text/plain": [
              "91.0"
            ]
          },
          "execution_count": 58,
          "metadata": {},
          "output_type": "execute_result"
        }
      ],
      "source": [
        "from sklearn.metrics import accuracy_score,classification_report\n",
        "grid_logi_accuracy_score1 = accuracy_score(ytest,prediction)\n",
        "grid_logi_accuracy_score1=(np.round(grid_logi_accuracy_score1*100))\n",
        "grid_logi_accuracy_score1"
      ]
    },
    {
      "cell_type": "code",
      "execution_count": null,
      "id": "a67bb367",
      "metadata": {
        "id": "a67bb367",
        "outputId": "dbc2aaeb-cf75-4165-8455-1c9ff56ba5bd"
      },
      "outputs": [
        {
          "data": {
            "text/plain": [
              "array([[13,  0,  0],\n",
              "       [ 0, 18,  0],\n",
              "       [ 0,  4, 10]], dtype=int64)"
            ]
          },
          "execution_count": 59,
          "metadata": {},
          "output_type": "execute_result"
        }
      ],
      "source": [
        "confusion_matrix(ytest,prediction)"
      ]
    },
    {
      "cell_type": "code",
      "execution_count": null,
      "id": "188c41d9",
      "metadata": {
        "id": "188c41d9",
        "outputId": "712a768f-b3ab-44fa-c795-ee85c4cc75db"
      },
      "outputs": [
        {
          "name": "stdout",
          "output_type": "stream",
          "text": [
            "              precision    recall  f1-score   support\n",
            "\n",
            "           0       1.00      1.00      1.00        13\n",
            "           1       0.82      1.00      0.90        18\n",
            "           2       1.00      0.71      0.83        14\n",
            "\n",
            "    accuracy                           0.91        45\n",
            "   macro avg       0.94      0.90      0.91        45\n",
            "weighted avg       0.93      0.91      0.91        45\n",
            "\n"
          ]
        }
      ],
      "source": [
        "class_pre_rec = classification_report(ytest,prediction)\n",
        "print(class_pre_rec)"
      ]
    },
    {
      "cell_type": "code",
      "execution_count": null,
      "id": "1f797853",
      "metadata": {
        "id": "1f797853"
      },
      "outputs": [],
      "source": [
        "from sklearn.tree import DecisionTreeClassifier"
      ]
    },
    {
      "cell_type": "code",
      "execution_count": null,
      "id": "5e5174b2",
      "metadata": {
        "id": "5e5174b2"
      },
      "outputs": [],
      "source": [
        "tree_classifier = DecisionTreeClassifier(criterion='gini',\n",
        "    splitter='best',\n",
        "    max_depth=5,\n",
        "    min_samples_split=2,\n",
        "    min_samples_leaf=1,\n",
        "    max_features=1,\n",
        "    random_state=1,\n",
        "    max_leaf_nodes=2,\n",
        "    class_weight='balanced',\n",
        "    ccp_alpha=0.01,)"
      ]
    },
    {
      "cell_type": "code",
      "execution_count": null,
      "id": "cdb08aa2",
      "metadata": {
        "id": "cdb08aa2",
        "outputId": "adde6506-35fb-4952-dfb1-04dcfe6623df"
      },
      "outputs": [
        {
          "data": {
            "text/html": [
              "<style>#sk-container-id-3 {color: black;background-color: white;}#sk-container-id-3 pre{padding: 0;}#sk-container-id-3 div.sk-toggleable {background-color: white;}#sk-container-id-3 label.sk-toggleable__label {cursor: pointer;display: block;width: 100%;margin-bottom: 0;padding: 0.3em;box-sizing: border-box;text-align: center;}#sk-container-id-3 label.sk-toggleable__label-arrow:before {content: \"▸\";float: left;margin-right: 0.25em;color: #696969;}#sk-container-id-3 label.sk-toggleable__label-arrow:hover:before {color: black;}#sk-container-id-3 div.sk-estimator:hover label.sk-toggleable__label-arrow:before {color: black;}#sk-container-id-3 div.sk-toggleable__content {max-height: 0;max-width: 0;overflow: hidden;text-align: left;background-color: #f0f8ff;}#sk-container-id-3 div.sk-toggleable__content pre {margin: 0.2em;color: black;border-radius: 0.25em;background-color: #f0f8ff;}#sk-container-id-3 input.sk-toggleable__control:checked~div.sk-toggleable__content {max-height: 200px;max-width: 100%;overflow: auto;}#sk-container-id-3 input.sk-toggleable__control:checked~label.sk-toggleable__label-arrow:before {content: \"▾\";}#sk-container-id-3 div.sk-estimator input.sk-toggleable__control:checked~label.sk-toggleable__label {background-color: #d4ebff;}#sk-container-id-3 div.sk-label input.sk-toggleable__control:checked~label.sk-toggleable__label {background-color: #d4ebff;}#sk-container-id-3 input.sk-hidden--visually {border: 0;clip: rect(1px 1px 1px 1px);clip: rect(1px, 1px, 1px, 1px);height: 1px;margin: -1px;overflow: hidden;padding: 0;position: absolute;width: 1px;}#sk-container-id-3 div.sk-estimator {font-family: monospace;background-color: #f0f8ff;border: 1px dotted black;border-radius: 0.25em;box-sizing: border-box;margin-bottom: 0.5em;}#sk-container-id-3 div.sk-estimator:hover {background-color: #d4ebff;}#sk-container-id-3 div.sk-parallel-item::after {content: \"\";width: 100%;border-bottom: 1px solid gray;flex-grow: 1;}#sk-container-id-3 div.sk-label:hover label.sk-toggleable__label {background-color: #d4ebff;}#sk-container-id-3 div.sk-serial::before {content: \"\";position: absolute;border-left: 1px solid gray;box-sizing: border-box;top: 0;bottom: 0;left: 50%;z-index: 0;}#sk-container-id-3 div.sk-serial {display: flex;flex-direction: column;align-items: center;background-color: white;padding-right: 0.2em;padding-left: 0.2em;position: relative;}#sk-container-id-3 div.sk-item {position: relative;z-index: 1;}#sk-container-id-3 div.sk-parallel {display: flex;align-items: stretch;justify-content: center;background-color: white;position: relative;}#sk-container-id-3 div.sk-item::before, #sk-container-id-3 div.sk-parallel-item::before {content: \"\";position: absolute;border-left: 1px solid gray;box-sizing: border-box;top: 0;bottom: 0;left: 50%;z-index: -1;}#sk-container-id-3 div.sk-parallel-item {display: flex;flex-direction: column;z-index: 1;position: relative;background-color: white;}#sk-container-id-3 div.sk-parallel-item:first-child::after {align-self: flex-end;width: 50%;}#sk-container-id-3 div.sk-parallel-item:last-child::after {align-self: flex-start;width: 50%;}#sk-container-id-3 div.sk-parallel-item:only-child::after {width: 0;}#sk-container-id-3 div.sk-dashed-wrapped {border: 1px dashed gray;margin: 0 0.4em 0.5em 0.4em;box-sizing: border-box;padding-bottom: 0.4em;background-color: white;}#sk-container-id-3 div.sk-label label {font-family: monospace;font-weight: bold;display: inline-block;line-height: 1.2em;}#sk-container-id-3 div.sk-label-container {text-align: center;}#sk-container-id-3 div.sk-container {/* jupyter's `normalize.less` sets `[hidden] { display: none; }` but bootstrap.min.css set `[hidden] { display: none !important; }` so we also need the `!important` here to be able to override the default hidden behavior on the sphinx rendered scikit-learn.org. See: https://github.com/scikit-learn/scikit-learn/issues/21755 */display: inline-block !important;position: relative;}#sk-container-id-3 div.sk-text-repr-fallback {display: none;}</style><div id=\"sk-container-id-3\" class=\"sk-top-container\"><div class=\"sk-text-repr-fallback\"><pre>DecisionTreeClassifier(ccp_alpha=0.01, class_weight=&#x27;balanced&#x27;, max_depth=5,\n",
              "                       max_features=1, max_leaf_nodes=2, random_state=1)</pre><b>In a Jupyter environment, please rerun this cell to show the HTML representation or trust the notebook. <br />On GitHub, the HTML representation is unable to render, please try loading this page with nbviewer.org.</b></div><div class=\"sk-container\" hidden><div class=\"sk-item\"><div class=\"sk-estimator sk-toggleable\"><input class=\"sk-toggleable__control sk-hidden--visually\" id=\"sk-estimator-id-5\" type=\"checkbox\" checked><label for=\"sk-estimator-id-5\" class=\"sk-toggleable__label sk-toggleable__label-arrow\">DecisionTreeClassifier</label><div class=\"sk-toggleable__content\"><pre>DecisionTreeClassifier(ccp_alpha=0.01, class_weight=&#x27;balanced&#x27;, max_depth=5,\n",
              "                       max_features=1, max_leaf_nodes=2, random_state=1)</pre></div></div></div></div></div>"
            ],
            "text/plain": [
              "DecisionTreeClassifier(ccp_alpha=0.01, class_weight='balanced', max_depth=5,\n",
              "                       max_features=1, max_leaf_nodes=2, random_state=1)"
            ]
          },
          "execution_count": 63,
          "metadata": {},
          "output_type": "execute_result"
        }
      ],
      "source": [
        "tree_classifier.fit(xtrain,ytrain)"
      ]
    },
    {
      "cell_type": "code",
      "execution_count": null,
      "id": "67305030",
      "metadata": {
        "id": "67305030",
        "outputId": "c79310c4-5bda-4be6-f36e-891f7526a6bc"
      },
      "outputs": [
        {
          "data": {
            "text/plain": [
              "0.6571428571428571"
            ]
          },
          "execution_count": 64,
          "metadata": {},
          "output_type": "execute_result"
        }
      ],
      "source": [
        "tree_classifier.score(xtrain,ytrain)"
      ]
    },
    {
      "cell_type": "code",
      "execution_count": null,
      "id": "8a6d01e7",
      "metadata": {
        "id": "8a6d01e7",
        "outputId": "45f095ba-c759-479c-9c37-97893daa5c65"
      },
      "outputs": [
        {
          "data": {
            "text/plain": [
              "0.6888888888888889"
            ]
          },
          "execution_count": 65,
          "metadata": {},
          "output_type": "execute_result"
        }
      ],
      "source": [
        "tree_classifier.score(xtest,ytest)"
      ]
    },
    {
      "cell_type": "code",
      "execution_count": null,
      "id": "7db73538",
      "metadata": {
        "id": "7db73538",
        "outputId": "d1d22cce-4a69-4088-956e-5092cd97bbba"
      },
      "outputs": [
        {
          "data": {
            "text/plain": [
              "array([0, 1, 1, 1, 1, 1, 1, 0, 1, 0, 1, 1, 1, 0, 0, 1, 0, 1, 1, 1, 1, 1,\n",
              "       1, 0, 1, 1, 1, 0, 1, 1, 1, 1, 0, 0, 0, 1, 1, 0, 1, 1, 1, 1, 0, 1,\n",
              "       1])"
            ]
          },
          "execution_count": 66,
          "metadata": {},
          "output_type": "execute_result"
        }
      ],
      "source": [
        "tree_classifier.predict(xtest)"
      ]
    },
    {
      "cell_type": "code",
      "execution_count": null,
      "id": "406fd212",
      "metadata": {
        "id": "406fd212"
      },
      "outputs": [],
      "source": [
        "tree_pred=tree_classifier.predict(xtest)"
      ]
    },
    {
      "cell_type": "code",
      "execution_count": null,
      "id": "2ea629dc",
      "metadata": {
        "id": "2ea629dc"
      },
      "outputs": [],
      "source": [
        "from sklearn.metrics import confusion_matrix,classification_report"
      ]
    },
    {
      "cell_type": "code",
      "execution_count": null,
      "id": "41bd3c59",
      "metadata": {
        "id": "41bd3c59",
        "outputId": "f03ba64c-8b0b-4806-e5dd-f31f7c29fdb2"
      },
      "outputs": [
        {
          "data": {
            "text/plain": [
              "array([[13,  0,  0],\n",
              "       [ 0, 18,  0],\n",
              "       [ 0, 14,  0]], dtype=int64)"
            ]
          },
          "execution_count": 69,
          "metadata": {},
          "output_type": "execute_result"
        }
      ],
      "source": [
        "confusion_matrix(ytest,tree_pred)"
      ]
    },
    {
      "cell_type": "code",
      "execution_count": null,
      "id": "61b6995c",
      "metadata": {
        "id": "61b6995c"
      },
      "outputs": [],
      "source": [
        "import sklearn"
      ]
    },
    {
      "cell_type": "code",
      "execution_count": null,
      "id": "e467132b",
      "metadata": {
        "id": "e467132b"
      },
      "outputs": [],
      "source": [
        "param_dict = {\"criterion\":['gini','entropy'],\"max_depth\":[1,2,3,4,5,6,7,None]}"
      ]
    },
    {
      "cell_type": "code",
      "execution_count": null,
      "id": "a6994b7b",
      "metadata": {
        "id": "a6994b7b"
      },
      "outputs": [],
      "source": [
        "from sklearn.model_selection import GridSearchCV"
      ]
    },
    {
      "cell_type": "code",
      "execution_count": null,
      "id": "6e720b2b",
      "metadata": {
        "id": "6e720b2b",
        "outputId": "02f76c36-282f-4cc1-d4a2-87bcbbcc1d12"
      },
      "outputs": [
        {
          "data": {
            "text/plain": [
              "0.6761904761904761"
            ]
          },
          "execution_count": 78,
          "metadata": {},
          "output_type": "execute_result"
        }
      ],
      "source": [
        "grid.best_score_"
      ]
    },
    {
      "cell_type": "code",
      "execution_count": null,
      "id": "04c70564",
      "metadata": {
        "id": "04c70564"
      },
      "outputs": [],
      "source": [
        "grid_pred2=grid.predict(xtest)"
      ]
    },
    {
      "cell_type": "code",
      "execution_count": null,
      "id": "fe834f59",
      "metadata": {
        "id": "fe834f59",
        "outputId": "a5779db6-02eb-4122-9dee-54a08d01cf0f"
      },
      "outputs": [
        {
          "data": {
            "text/plain": [
              "68.88888888888889"
            ]
          },
          "execution_count": 80,
          "metadata": {},
          "output_type": "execute_result"
        }
      ],
      "source": [
        "accuracy_score(ytest,grid_pred2)*100"
      ]
    },
    {
      "cell_type": "code",
      "execution_count": null,
      "id": "7af73d9d",
      "metadata": {
        "id": "7af73d9d"
      },
      "outputs": [],
      "source": [
        "from sklearn.metrics import confusion_matrix,classification_report"
      ]
    },
    {
      "cell_type": "code",
      "execution_count": null,
      "id": "c81e2bd4",
      "metadata": {
        "id": "c81e2bd4",
        "outputId": "046b084a-1f1d-46c7-876e-3bc7281e3335"
      },
      "outputs": [
        {
          "data": {
            "text/plain": [
              "array([[13,  0,  0],\n",
              "       [ 0, 18,  0],\n",
              "       [ 0, 14,  0]], dtype=int64)"
            ]
          },
          "execution_count": 82,
          "metadata": {},
          "output_type": "execute_result"
        }
      ],
      "source": [
        "confusion_matrix(ytest,grid_pred2)"
      ]
    },
    {
      "cell_type": "code",
      "execution_count": null,
      "id": "1bd047a3",
      "metadata": {
        "id": "1bd047a3",
        "outputId": "429da547-c9d0-484e-834c-fbbe6c9db0d6"
      },
      "outputs": [
        {
          "name": "stdout",
          "output_type": "stream",
          "text": [
            "              precision    recall  f1-score   support\n",
            "\n",
            "           0       1.00      1.00      1.00        13\n",
            "           1       0.56      1.00      0.72        18\n",
            "           2       0.00      0.00      0.00        14\n",
            "\n",
            "    accuracy                           0.69        45\n",
            "   macro avg       0.52      0.67      0.57        45\n",
            "weighted avg       0.51      0.69      0.58        45\n",
            "\n"
          ]
        },
        {
          "name": "stderr",
          "output_type": "stream",
          "text": [
            "C:\\Users\\HP\\AppData\\Roaming\\Python\\Python39\\site-packages\\sklearn\\metrics\\_classification.py:1327: UndefinedMetricWarning: Precision and F-score are ill-defined and being set to 0.0 in labels with no predicted samples. Use `zero_division` parameter to control this behavior.\n",
            "  _warn_prf(average, modifier, msg_start, len(result))\n",
            "C:\\Users\\HP\\AppData\\Roaming\\Python\\Python39\\site-packages\\sklearn\\metrics\\_classification.py:1327: UndefinedMetricWarning: Precision and F-score are ill-defined and being set to 0.0 in labels with no predicted samples. Use `zero_division` parameter to control this behavior.\n",
            "  _warn_prf(average, modifier, msg_start, len(result))\n",
            "C:\\Users\\HP\\AppData\\Roaming\\Python\\Python39\\site-packages\\sklearn\\metrics\\_classification.py:1327: UndefinedMetricWarning: Precision and F-score are ill-defined and being set to 0.0 in labels with no predicted samples. Use `zero_division` parameter to control this behavior.\n",
            "  _warn_prf(average, modifier, msg_start, len(result))\n"
          ]
        }
      ],
      "source": [
        "print(classification_report(ytest,grid_pred2))"
      ]
    },
    {
      "cell_type": "code",
      "execution_count": null,
      "id": "0345e4e2",
      "metadata": {
        "id": "0345e4e2"
      },
      "outputs": [],
      "source": [
        "from sklearn.neighbors import KNeighborsClassifier"
      ]
    },
    {
      "cell_type": "code",
      "execution_count": null,
      "id": "bd8cae0a",
      "metadata": {
        "id": "bd8cae0a"
      },
      "outputs": [],
      "source": [
        "knn = KNeighborsClassifier(n_neighbors=5,\n",
        "    weights='uniform',\n",
        "    algorithm='kd_tree',\n",
        "    leaf_size=30,\n",
        "    p=2,\n",
        "    metric='minkowski',\n",
        "    n_jobs=-1)"
      ]
    },
    {
      "cell_type": "code",
      "execution_count": null,
      "id": "621aa0b5",
      "metadata": {
        "id": "621aa0b5",
        "outputId": "93968e39-7fe7-4dac-f57a-8bcb893933d8"
      },
      "outputs": [
        {
          "data": {
            "text/html": [
              "<style>#sk-container-id-6 {color: black;background-color: white;}#sk-container-id-6 pre{padding: 0;}#sk-container-id-6 div.sk-toggleable {background-color: white;}#sk-container-id-6 label.sk-toggleable__label {cursor: pointer;display: block;width: 100%;margin-bottom: 0;padding: 0.3em;box-sizing: border-box;text-align: center;}#sk-container-id-6 label.sk-toggleable__label-arrow:before {content: \"▸\";float: left;margin-right: 0.25em;color: #696969;}#sk-container-id-6 label.sk-toggleable__label-arrow:hover:before {color: black;}#sk-container-id-6 div.sk-estimator:hover label.sk-toggleable__label-arrow:before {color: black;}#sk-container-id-6 div.sk-toggleable__content {max-height: 0;max-width: 0;overflow: hidden;text-align: left;background-color: #f0f8ff;}#sk-container-id-6 div.sk-toggleable__content pre {margin: 0.2em;color: black;border-radius: 0.25em;background-color: #f0f8ff;}#sk-container-id-6 input.sk-toggleable__control:checked~div.sk-toggleable__content {max-height: 200px;max-width: 100%;overflow: auto;}#sk-container-id-6 input.sk-toggleable__control:checked~label.sk-toggleable__label-arrow:before {content: \"▾\";}#sk-container-id-6 div.sk-estimator input.sk-toggleable__control:checked~label.sk-toggleable__label {background-color: #d4ebff;}#sk-container-id-6 div.sk-label input.sk-toggleable__control:checked~label.sk-toggleable__label {background-color: #d4ebff;}#sk-container-id-6 input.sk-hidden--visually {border: 0;clip: rect(1px 1px 1px 1px);clip: rect(1px, 1px, 1px, 1px);height: 1px;margin: -1px;overflow: hidden;padding: 0;position: absolute;width: 1px;}#sk-container-id-6 div.sk-estimator {font-family: monospace;background-color: #f0f8ff;border: 1px dotted black;border-radius: 0.25em;box-sizing: border-box;margin-bottom: 0.5em;}#sk-container-id-6 div.sk-estimator:hover {background-color: #d4ebff;}#sk-container-id-6 div.sk-parallel-item::after {content: \"\";width: 100%;border-bottom: 1px solid gray;flex-grow: 1;}#sk-container-id-6 div.sk-label:hover label.sk-toggleable__label {background-color: #d4ebff;}#sk-container-id-6 div.sk-serial::before {content: \"\";position: absolute;border-left: 1px solid gray;box-sizing: border-box;top: 0;bottom: 0;left: 50%;z-index: 0;}#sk-container-id-6 div.sk-serial {display: flex;flex-direction: column;align-items: center;background-color: white;padding-right: 0.2em;padding-left: 0.2em;position: relative;}#sk-container-id-6 div.sk-item {position: relative;z-index: 1;}#sk-container-id-6 div.sk-parallel {display: flex;align-items: stretch;justify-content: center;background-color: white;position: relative;}#sk-container-id-6 div.sk-item::before, #sk-container-id-6 div.sk-parallel-item::before {content: \"\";position: absolute;border-left: 1px solid gray;box-sizing: border-box;top: 0;bottom: 0;left: 50%;z-index: -1;}#sk-container-id-6 div.sk-parallel-item {display: flex;flex-direction: column;z-index: 1;position: relative;background-color: white;}#sk-container-id-6 div.sk-parallel-item:first-child::after {align-self: flex-end;width: 50%;}#sk-container-id-6 div.sk-parallel-item:last-child::after {align-self: flex-start;width: 50%;}#sk-container-id-6 div.sk-parallel-item:only-child::after {width: 0;}#sk-container-id-6 div.sk-dashed-wrapped {border: 1px dashed gray;margin: 0 0.4em 0.5em 0.4em;box-sizing: border-box;padding-bottom: 0.4em;background-color: white;}#sk-container-id-6 div.sk-label label {font-family: monospace;font-weight: bold;display: inline-block;line-height: 1.2em;}#sk-container-id-6 div.sk-label-container {text-align: center;}#sk-container-id-6 div.sk-container {/* jupyter's `normalize.less` sets `[hidden] { display: none; }` but bootstrap.min.css set `[hidden] { display: none !important; }` so we also need the `!important` here to be able to override the default hidden behavior on the sphinx rendered scikit-learn.org. See: https://github.com/scikit-learn/scikit-learn/issues/21755 */display: inline-block !important;position: relative;}#sk-container-id-6 div.sk-text-repr-fallback {display: none;}</style><div id=\"sk-container-id-6\" class=\"sk-top-container\"><div class=\"sk-text-repr-fallback\"><pre>KNeighborsClassifier(algorithm=&#x27;kd_tree&#x27;, n_jobs=-1)</pre><b>In a Jupyter environment, please rerun this cell to show the HTML representation or trust the notebook. <br />On GitHub, the HTML representation is unable to render, please try loading this page with nbviewer.org.</b></div><div class=\"sk-container\" hidden><div class=\"sk-item\"><div class=\"sk-estimator sk-toggleable\"><input class=\"sk-toggleable__control sk-hidden--visually\" id=\"sk-estimator-id-12\" type=\"checkbox\" checked><label for=\"sk-estimator-id-12\" class=\"sk-toggleable__label sk-toggleable__label-arrow\">KNeighborsClassifier</label><div class=\"sk-toggleable__content\"><pre>KNeighborsClassifier(algorithm=&#x27;kd_tree&#x27;, n_jobs=-1)</pre></div></div></div></div></div>"
            ],
            "text/plain": [
              "KNeighborsClassifier(algorithm='kd_tree', n_jobs=-1)"
            ]
          },
          "execution_count": 86,
          "metadata": {},
          "output_type": "execute_result"
        }
      ],
      "source": [
        "knn.fit(xtrain,ytrain)"
      ]
    },
    {
      "cell_type": "code",
      "execution_count": null,
      "id": "a60446c4",
      "metadata": {
        "id": "a60446c4",
        "outputId": "9c392ad5-b12a-4d8c-e4a5-041173ec02a6"
      },
      "outputs": [
        {
          "data": {
            "text/plain": [
              "0.9809523809523809"
            ]
          },
          "execution_count": 87,
          "metadata": {},
          "output_type": "execute_result"
        }
      ],
      "source": [
        "knn.score(xtrain,ytrain)"
      ]
    },
    {
      "cell_type": "code",
      "execution_count": null,
      "id": "2e3853b3",
      "metadata": {
        "id": "2e3853b3",
        "outputId": "2f94822e-0f34-413c-fc29-086b959e1bb2"
      },
      "outputs": [
        {
          "data": {
            "text/plain": [
              "0.9555555555555556"
            ]
          },
          "execution_count": 88,
          "metadata": {},
          "output_type": "execute_result"
        }
      ],
      "source": [
        "knn.score(xtest,ytest)"
      ]
    },
    {
      "cell_type": "code",
      "execution_count": null,
      "id": "d001c85c",
      "metadata": {
        "id": "d001c85c"
      },
      "outputs": [],
      "source": [
        "knn_pred=knn.predict(xtest)"
      ]
    },
    {
      "cell_type": "code",
      "execution_count": null,
      "id": "4a9c48f2",
      "metadata": {
        "id": "4a9c48f2",
        "outputId": "49ca138c-3ae1-4c95-8650-6d3cd3689c1b"
      },
      "outputs": [
        {
          "data": {
            "text/plain": [
              "0.9555555555555556"
            ]
          },
          "execution_count": 90,
          "metadata": {},
          "output_type": "execute_result"
        }
      ],
      "source": [
        "accuracy_score(ytest,knn_pred)"
      ]
    },
    {
      "cell_type": "code",
      "execution_count": null,
      "id": "287f80ae",
      "metadata": {
        "id": "287f80ae",
        "outputId": "52a9d70e-5b23-489d-ec47-1410f8920e67"
      },
      "outputs": [
        {
          "data": {
            "text/plain": [
              "array([[13,  0,  0],\n",
              "       [ 0, 17,  1],\n",
              "       [ 0,  1, 13]], dtype=int64)"
            ]
          },
          "execution_count": 91,
          "metadata": {},
          "output_type": "execute_result"
        }
      ],
      "source": [
        "confusion_matrix(ytest,knn_pred)"
      ]
    },
    {
      "cell_type": "code",
      "execution_count": null,
      "id": "e5abe13b",
      "metadata": {
        "id": "e5abe13b",
        "outputId": "eb2d7fd8-f5dd-49ff-956c-9be59e0a35de"
      },
      "outputs": [
        {
          "data": {
            "text/plain": [
              "0.9555555555555556"
            ]
          },
          "execution_count": 92,
          "metadata": {},
          "output_type": "execute_result"
        }
      ],
      "source": [
        "accuracy_score(ytest,knn_pred)"
      ]
    },
    {
      "cell_type": "code",
      "execution_count": null,
      "id": "eeff8b83",
      "metadata": {
        "id": "eeff8b83",
        "outputId": "0519514e-e5e2-425d-f292-83e707dfead3"
      },
      "outputs": [
        {
          "name": "stdout",
          "output_type": "stream",
          "text": [
            "              precision    recall  f1-score   support\n",
            "\n",
            "           0       1.00      1.00      1.00        13\n",
            "           1       0.94      0.94      0.94        18\n",
            "           2       0.93      0.93      0.93        14\n",
            "\n",
            "    accuracy                           0.96        45\n",
            "   macro avg       0.96      0.96      0.96        45\n",
            "weighted avg       0.96      0.96      0.96        45\n",
            "\n"
          ]
        }
      ],
      "source": [
        "print(classification_report(ytest,knn_pred))"
      ]
    },
    {
      "cell_type": "code",
      "execution_count": null,
      "id": "967008b8",
      "metadata": {
        "id": "967008b8"
      },
      "outputs": [],
      "source": [
        "from sklearn.ensemble import RandomForestClassifier"
      ]
    },
    {
      "cell_type": "code",
      "execution_count": null,
      "id": "47af8afe",
      "metadata": {
        "id": "47af8afe"
      },
      "outputs": [],
      "source": [
        "RFC=RandomForestClassifier(n_estimators=300,criterion='gini',\n",
        "    max_depth=17,\n",
        "    min_samples_split=2,\n",
        "    min_samples_leaf=1,\n",
        "    max_features='sqrt',\n",
        "    max_leaf_nodes=2,\n",
        "    min_impurity_decrease=0.1,\n",
        "    bootstrap=True,\n",
        "    oob_score=False,\n",
        "    n_jobs=-1,\n",
        "    random_state=1,\n",
        "    ccp_alpha=0.01,\n",
        "    max_samples=3)"
      ]
    },
    {
      "cell_type": "code",
      "execution_count": null,
      "id": "155c82c7",
      "metadata": {
        "id": "155c82c7",
        "outputId": "1d7ba97d-3a17-4f6d-e25f-9924f1f23b32"
      },
      "outputs": [
        {
          "data": {
            "text/html": [
              "<style>#sk-container-id-7 {color: black;background-color: white;}#sk-container-id-7 pre{padding: 0;}#sk-container-id-7 div.sk-toggleable {background-color: white;}#sk-container-id-7 label.sk-toggleable__label {cursor: pointer;display: block;width: 100%;margin-bottom: 0;padding: 0.3em;box-sizing: border-box;text-align: center;}#sk-container-id-7 label.sk-toggleable__label-arrow:before {content: \"▸\";float: left;margin-right: 0.25em;color: #696969;}#sk-container-id-7 label.sk-toggleable__label-arrow:hover:before {color: black;}#sk-container-id-7 div.sk-estimator:hover label.sk-toggleable__label-arrow:before {color: black;}#sk-container-id-7 div.sk-toggleable__content {max-height: 0;max-width: 0;overflow: hidden;text-align: left;background-color: #f0f8ff;}#sk-container-id-7 div.sk-toggleable__content pre {margin: 0.2em;color: black;border-radius: 0.25em;background-color: #f0f8ff;}#sk-container-id-7 input.sk-toggleable__control:checked~div.sk-toggleable__content {max-height: 200px;max-width: 100%;overflow: auto;}#sk-container-id-7 input.sk-toggleable__control:checked~label.sk-toggleable__label-arrow:before {content: \"▾\";}#sk-container-id-7 div.sk-estimator input.sk-toggleable__control:checked~label.sk-toggleable__label {background-color: #d4ebff;}#sk-container-id-7 div.sk-label input.sk-toggleable__control:checked~label.sk-toggleable__label {background-color: #d4ebff;}#sk-container-id-7 input.sk-hidden--visually {border: 0;clip: rect(1px 1px 1px 1px);clip: rect(1px, 1px, 1px, 1px);height: 1px;margin: -1px;overflow: hidden;padding: 0;position: absolute;width: 1px;}#sk-container-id-7 div.sk-estimator {font-family: monospace;background-color: #f0f8ff;border: 1px dotted black;border-radius: 0.25em;box-sizing: border-box;margin-bottom: 0.5em;}#sk-container-id-7 div.sk-estimator:hover {background-color: #d4ebff;}#sk-container-id-7 div.sk-parallel-item::after {content: \"\";width: 100%;border-bottom: 1px solid gray;flex-grow: 1;}#sk-container-id-7 div.sk-label:hover label.sk-toggleable__label {background-color: #d4ebff;}#sk-container-id-7 div.sk-serial::before {content: \"\";position: absolute;border-left: 1px solid gray;box-sizing: border-box;top: 0;bottom: 0;left: 50%;z-index: 0;}#sk-container-id-7 div.sk-serial {display: flex;flex-direction: column;align-items: center;background-color: white;padding-right: 0.2em;padding-left: 0.2em;position: relative;}#sk-container-id-7 div.sk-item {position: relative;z-index: 1;}#sk-container-id-7 div.sk-parallel {display: flex;align-items: stretch;justify-content: center;background-color: white;position: relative;}#sk-container-id-7 div.sk-item::before, #sk-container-id-7 div.sk-parallel-item::before {content: \"\";position: absolute;border-left: 1px solid gray;box-sizing: border-box;top: 0;bottom: 0;left: 50%;z-index: -1;}#sk-container-id-7 div.sk-parallel-item {display: flex;flex-direction: column;z-index: 1;position: relative;background-color: white;}#sk-container-id-7 div.sk-parallel-item:first-child::after {align-self: flex-end;width: 50%;}#sk-container-id-7 div.sk-parallel-item:last-child::after {align-self: flex-start;width: 50%;}#sk-container-id-7 div.sk-parallel-item:only-child::after {width: 0;}#sk-container-id-7 div.sk-dashed-wrapped {border: 1px dashed gray;margin: 0 0.4em 0.5em 0.4em;box-sizing: border-box;padding-bottom: 0.4em;background-color: white;}#sk-container-id-7 div.sk-label label {font-family: monospace;font-weight: bold;display: inline-block;line-height: 1.2em;}#sk-container-id-7 div.sk-label-container {text-align: center;}#sk-container-id-7 div.sk-container {/* jupyter's `normalize.less` sets `[hidden] { display: none; }` but bootstrap.min.css set `[hidden] { display: none !important; }` so we also need the `!important` here to be able to override the default hidden behavior on the sphinx rendered scikit-learn.org. See: https://github.com/scikit-learn/scikit-learn/issues/21755 */display: inline-block !important;position: relative;}#sk-container-id-7 div.sk-text-repr-fallback {display: none;}</style><div id=\"sk-container-id-7\" class=\"sk-top-container\"><div class=\"sk-text-repr-fallback\"><pre>RandomForestClassifier(ccp_alpha=0.01, max_depth=17, max_leaf_nodes=2,\n",
              "                       max_samples=3, min_impurity_decrease=0.1,\n",
              "                       n_estimators=300, n_jobs=-1, random_state=1)</pre><b>In a Jupyter environment, please rerun this cell to show the HTML representation or trust the notebook. <br />On GitHub, the HTML representation is unable to render, please try loading this page with nbviewer.org.</b></div><div class=\"sk-container\" hidden><div class=\"sk-item\"><div class=\"sk-estimator sk-toggleable\"><input class=\"sk-toggleable__control sk-hidden--visually\" id=\"sk-estimator-id-13\" type=\"checkbox\" checked><label for=\"sk-estimator-id-13\" class=\"sk-toggleable__label sk-toggleable__label-arrow\">RandomForestClassifier</label><div class=\"sk-toggleable__content\"><pre>RandomForestClassifier(ccp_alpha=0.01, max_depth=17, max_leaf_nodes=2,\n",
              "                       max_samples=3, min_impurity_decrease=0.1,\n",
              "                       n_estimators=300, n_jobs=-1, random_state=1)</pre></div></div></div></div></div>"
            ],
            "text/plain": [
              "RandomForestClassifier(ccp_alpha=0.01, max_depth=17, max_leaf_nodes=2,\n",
              "                       max_samples=3, min_impurity_decrease=0.1,\n",
              "                       n_estimators=300, n_jobs=-1, random_state=1)"
            ]
          },
          "execution_count": 96,
          "metadata": {},
          "output_type": "execute_result"
        }
      ],
      "source": [
        "RFC.fit(xtrain,ytrain)"
      ]
    },
    {
      "cell_type": "code",
      "execution_count": null,
      "id": "44673520",
      "metadata": {
        "id": "44673520",
        "outputId": "ee3a8203-0bbf-41bc-916b-e75da1019493"
      },
      "outputs": [
        {
          "data": {
            "text/plain": [
              "0.9333333333333333"
            ]
          },
          "execution_count": 97,
          "metadata": {},
          "output_type": "execute_result"
        }
      ],
      "source": [
        "RFC.score(xtrain,ytrain)"
      ]
    },
    {
      "cell_type": "code",
      "execution_count": null,
      "id": "0725d8cb",
      "metadata": {
        "id": "0725d8cb",
        "outputId": "0e218a45-910a-49e6-d981-eb59ff69f0a1"
      },
      "outputs": [
        {
          "data": {
            "text/plain": [
              "0.7777777777777778"
            ]
          },
          "execution_count": 98,
          "metadata": {},
          "output_type": "execute_result"
        }
      ],
      "source": [
        "RFC.score(xtest,ytest)"
      ]
    },
    {
      "cell_type": "code",
      "execution_count": null,
      "id": "0d966304",
      "metadata": {
        "id": "0d966304",
        "outputId": "eba4c3fc-2d6d-45b5-eb71-5e0d97b27b96"
      },
      "outputs": [
        {
          "data": {
            "text/plain": [
              "{'bootstrap': True,\n",
              " 'ccp_alpha': 0.01,\n",
              " 'class_weight': None,\n",
              " 'criterion': 'gini',\n",
              " 'max_depth': 17,\n",
              " 'max_features': 'sqrt',\n",
              " 'max_leaf_nodes': 2,\n",
              " 'max_samples': 3,\n",
              " 'min_impurity_decrease': 0.1,\n",
              " 'min_samples_leaf': 1,\n",
              " 'min_samples_split': 2,\n",
              " 'min_weight_fraction_leaf': 0.0,\n",
              " 'n_estimators': 300,\n",
              " 'n_jobs': -1,\n",
              " 'oob_score': False,\n",
              " 'random_state': 1,\n",
              " 'verbose': 0,\n",
              " 'warm_start': False}"
            ]
          },
          "execution_count": 99,
          "metadata": {},
          "output_type": "execute_result"
        }
      ],
      "source": [
        "RFC.get_params()"
      ]
    },
    {
      "cell_type": "code",
      "execution_count": null,
      "id": "66eba3b5",
      "metadata": {
        "id": "66eba3b5"
      },
      "outputs": [],
      "source": [
        "RFC_pred = RFC.predict(xtest)"
      ]
    },
    {
      "cell_type": "code",
      "execution_count": null,
      "id": "967ccac4",
      "metadata": {
        "id": "967ccac4",
        "outputId": "ec721878-bc35-41ee-b28e-5eb31c9c2401"
      },
      "outputs": [
        {
          "data": {
            "text/plain": [
              "0.7777777777777778"
            ]
          },
          "execution_count": 101,
          "metadata": {},
          "output_type": "execute_result"
        }
      ],
      "source": [
        "accuracy_score(ytest,RFC_pred)"
      ]
    },
    {
      "cell_type": "code",
      "execution_count": null,
      "id": "165c26c6",
      "metadata": {
        "id": "165c26c6",
        "outputId": "6e7e393a-09d4-4554-a83c-e0a8bd54d68f"
      },
      "outputs": [
        {
          "data": {
            "text/plain": [
              "array([[13,  0,  0],\n",
              "       [ 0, 10,  8],\n",
              "       [ 0,  2, 12]], dtype=int64)"
            ]
          },
          "execution_count": 102,
          "metadata": {},
          "output_type": "execute_result"
        }
      ],
      "source": [
        "confusion_matrix(ytest,RFC_pred)"
      ]
    },
    {
      "cell_type": "code",
      "execution_count": null,
      "id": "d19fdc99",
      "metadata": {
        "scrolled": true,
        "id": "d19fdc99",
        "outputId": "8887fc06-20de-4b36-ee8b-bad105ff731a"
      },
      "outputs": [
        {
          "name": "stdout",
          "output_type": "stream",
          "text": [
            "              precision    recall  f1-score   support\n",
            "\n",
            "           0       1.00      1.00      1.00        13\n",
            "           1       0.83      0.56      0.67        18\n",
            "           2       0.60      0.86      0.71        14\n",
            "\n",
            "    accuracy                           0.78        45\n",
            "   macro avg       0.81      0.80      0.79        45\n",
            "weighted avg       0.81      0.78      0.78        45\n",
            "\n"
          ]
        }
      ],
      "source": [
        "print(classification_report(ytest,RFC_pred))"
      ]
    },
    {
      "cell_type": "code",
      "execution_count": null,
      "id": "84c6b5ce",
      "metadata": {
        "id": "84c6b5ce"
      },
      "outputs": [],
      "source": [
        "import xgboost as xg"
      ]
    },
    {
      "cell_type": "code",
      "execution_count": null,
      "id": "467f9492",
      "metadata": {
        "id": "467f9492"
      },
      "outputs": [],
      "source": [
        "xg_model = xg.XGBClassifier(gamma=0.01,\n",
        "              learning_rate=0.01, max_bin=4,\n",
        "              max_depth=15,\n",
        "              max_leaves=2, min_child_weight=2,n_estimators=300, n_jobs=-1,objective='multi:softprob',\n",
        "             random_state=1)"
      ]
    },
    {
      "cell_type": "code",
      "execution_count": null,
      "id": "d51b3421",
      "metadata": {
        "id": "d51b3421",
        "outputId": "2e70dc87-ecdd-43c2-ad82-89840629dbd1"
      },
      "outputs": [
        {
          "data": {
            "text/plain": [
              "0.8888888888888888"
            ]
          },
          "execution_count": 108,
          "metadata": {},
          "output_type": "execute_result"
        }
      ],
      "source": [
        "xg_model.score(xtest,ytest)"
      ]
    },
    {
      "cell_type": "code",
      "execution_count": null,
      "id": "ac8fb915",
      "metadata": {
        "id": "ac8fb915"
      },
      "outputs": [],
      "source": [
        "xg_pred =xg_model.predict(xtest)"
      ]
    },
    {
      "cell_type": "code",
      "execution_count": null,
      "id": "653ca4ee",
      "metadata": {
        "id": "653ca4ee",
        "outputId": "a59df278-3828-4d34-c33e-308db10ae760"
      },
      "outputs": [
        {
          "data": {
            "text/plain": [
              "0.8888888888888888"
            ]
          },
          "execution_count": 110,
          "metadata": {},
          "output_type": "execute_result"
        }
      ],
      "source": [
        "accuracy_score(ytest,xg_pred)"
      ]
    },
    {
      "cell_type": "code",
      "execution_count": null,
      "id": "fd844b25",
      "metadata": {
        "id": "fd844b25",
        "outputId": "42250b29-4be6-427d-f640-8be0b04a8af4"
      },
      "outputs": [
        {
          "data": {
            "text/plain": [
              "array([[13,  0,  0],\n",
              "       [ 0, 18,  0],\n",
              "       [ 0,  5,  9]], dtype=int64)"
            ]
          },
          "execution_count": 111,
          "metadata": {},
          "output_type": "execute_result"
        }
      ],
      "source": [
        "confusion_matrix(ytest,xg_pred)"
      ]
    },
    {
      "cell_type": "code",
      "execution_count": null,
      "id": "ee8f2d8e",
      "metadata": {
        "id": "ee8f2d8e",
        "outputId": "48e643c1-af91-4953-d06a-89d989b6c4f2"
      },
      "outputs": [
        {
          "name": "stdout",
          "output_type": "stream",
          "text": [
            "              precision    recall  f1-score   support\n",
            "\n",
            "           0       1.00      1.00      1.00        13\n",
            "           1       0.78      1.00      0.88        18\n",
            "           2       1.00      0.64      0.78        14\n",
            "\n",
            "    accuracy                           0.89        45\n",
            "   macro avg       0.93      0.88      0.89        45\n",
            "weighted avg       0.91      0.89      0.88        45\n",
            "\n"
          ]
        }
      ],
      "source": [
        "print(classification_report(ytest,xg_pred))"
      ]
    },
    {
      "cell_type": "markdown",
      "id": "0c02062f",
      "metadata": {
        "id": "0c02062f"
      },
      "source": [
        "Observations:\n",
        "    \n",
        "Using Petals over Sepal for training the data gives a much better accuracy.\n",
        "This was expected as we saw in the heatmap above that the correlation between the Sepal Width and Length was very low whereas the correlation between Petal Width and Length was very high.\n",
        "Thus we have just implemented some of the common Machine Learning."
      ]
    },
    {
      "cell_type": "markdown",
      "id": "972c3498",
      "metadata": {
        "id": "972c3498"
      },
      "source": [
        "In above experiment,we have seen different accuracy with respect to different models like Logistic Regression,Decision Tree and KNN\n",
        "Among all of them KNN provide best accuracy for the small dataset.So I will consider KNN as my final model\n",
        "\n"
      ]
    }
  ],
  "metadata": {
    "kernelspec": {
      "display_name": "Python 3 (ipykernel)",
      "language": "python",
      "name": "python3"
    },
    "language_info": {
      "codemirror_mode": {
        "name": "ipython",
        "version": 3
      },
      "file_extension": ".py",
      "mimetype": "text/x-python",
      "name": "python",
      "nbconvert_exporter": "python",
      "pygments_lexer": "ipython3",
      "version": "3.9.7"
    },
    "colab": {
      "provenance": []
    }
  },
  "nbformat": 4,
  "nbformat_minor": 5
}